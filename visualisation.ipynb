{
 "cells": [
  {
   "cell_type": "code",
   "execution_count": 1,
   "metadata": {},
   "outputs": [],
   "source": [
    "import pandas as pd\n",
    "import numpy as np\n",
    "from sklearn.preprocessing import MinMaxScaler\n",
    "import seaborn as sns\n",
    "import matplotlib.pyplot as plt\n",
    "%matplotlib inline\n",
    "\n",
    "schemes = ['Accent', 'Accent_r', 'Blues', 'Blues_r', 'BrBG', 'BrBG_r', 'BuGn', 'BuGn_r', 'BuPu', 'BuPu_r', 'CMRmap', 'CMRmap_r', 'Dark2', 'Dark2_r', 'GnBu', 'GnBu_r', 'Greens', 'Greens_r', 'Greys', 'Greys_r', 'OrRd', 'OrRd_r', 'Oranges', 'Oranges_r', 'PRGn', 'PRGn_r', 'Paired', 'Paired_r', 'Pastel1', 'Pastel1_r', 'Pastel2', 'Pastel2_r', 'PiYG', 'PiYG_r', 'PuBu', 'PuBuGn', 'PuBuGn_r', 'PuBu_r', 'PuOr', 'PuOr_r', 'PuRd', 'PuRd_r', 'Purples', 'Purples_r', 'RdBu', 'RdBu_r', 'RdGy', 'RdGy_r', 'RdPu', 'RdPu_r', 'RdYlBu', 'RdYlBu_r', 'RdYlGn', 'RdYlGn_r', 'Reds', 'Reds_r', 'Set1', 'Set1_r', 'Set2', 'Set2_r', 'Set3', 'Set3_r', 'Spectral', 'Spectral_r', 'Wistia', 'Wistia_r', 'YlGn', 'YlGnBu', 'YlGnBu_r', 'YlGn_r', 'YlOrBr', 'YlOrBr_r', 'YlOrRd', 'YlOrRd_r', 'afmhot', 'afmhot_r', 'autumn', 'autumn_r', 'binary', 'binary_r', 'bone', 'bone_r', 'brg', 'brg_r', 'bwr', 'bwr_r', 'cividis', 'cividis_r', 'cool', 'cool_r', 'coolwarm', 'coolwarm_r', 'copper', 'copper_r', 'crest', 'crest_r', 'cubehelix', 'cubehelix_r', 'flag', 'flag_r', 'flare', 'flare_r', 'gist_earth', 'gist_earth_r', 'gist_gray', 'gist_gray_r', 'gist_heat', 'gist_heat_r', 'gist_ncar', 'gist_ncar_r', 'gist_rainbow', 'gist_rainbow_r', 'gist_stern', 'gist_stern_r', 'gist_yarg', 'gist_yarg_r', 'gnuplot', 'gnuplot2', 'gnuplot2_r', 'gnuplot_r', 'gray', 'gray_r', 'hot', 'hot_r', 'hsv', 'hsv_r', 'icefire', 'icefire_r', 'inferno', 'inferno_r', 'jet', 'jet_r', 'magma', 'magma_r', 'mako', 'mako_r', 'nipy_spectral', 'nipy_spectral_r', 'ocean', 'ocean_r', 'pink', 'pink_r', 'plasma', 'plasma_r', 'prism', 'prism_r', 'rainbow', 'rainbow_r', 'rocket', 'rocket_r', 'seismic', 'seismic_r', 'spring', 'spring_r', 'summer', 'summer_r', 'tab10', 'tab10_r', 'tab20', 'tab20_r', 'tab20b', 'tab20b_r', 'tab20c', 'tab20c_r', 'terrain', 'terrain_r', 'turbo', 'turbo_r', 'twilight', 'twilight_r', 'twilight_shifted', 'twilight_shifted_r', 'viridis', 'viridis_r', 'vlag', 'vlag_r', 'winter', 'winter_r']"
   ]
  },
  {
   "cell_type": "code",
   "execution_count": 2,
   "metadata": {},
   "outputs": [],
   "source": [
    "df = pd.read_csv(\"city.csv\")\n",
    "df = df.set_index(df.city).drop(columns=\"city\")\n",
    "df = df.sort_values(by=list(df.columns), ascending=False)\n",
    "for i in df.columns:\n",
    "  df[i] = df[i].replace({ \"Ab\" : 0.5, \"yes\" : 1, \"no\" : 0})\n",
    "s_df = pd.read_csv(\"risk_pred.csv\")\n",
    "s_df = s_df.set_index(s_df.city).drop(columns=\"city\")\n",
    "s_df = s_df.loc[df.index]\n",
    "df.index.name = 'county'\n",
    "s_df.index.name = 'county'"
   ]
  },
  {
   "cell_type": "code",
   "execution_count": 3,
   "metadata": {},
   "outputs": [],
   "source": [
    "scaler = MinMaxScaler()\n",
    "data = s_df.to_numpy(copy=True)\n",
    "scaler.fit(data)\n",
    "data = scaler.transform(data)\n",
    "x_df = pd.DataFrame(data, columns=s_df.columns, index=s_df.index)"
   ]
  },
  {
   "cell_type": "code",
   "execution_count": 4,
   "metadata": {},
   "outputs": [],
   "source": [
    "truth = df.to_numpy(copy=True)\n",
    "pred = x_df[df.columns].to_numpy(copy=True)\n",
    "for i in range(df.shape[0]):\n",
    "    for j in range(df.shape[1]):\n",
    "        if truth[i][j]==0.5:\n",
    "            truth[i][j] = pred[i][j]\n",
    "m_df = pd.DataFrame(truth, columns=df.columns, index=s_df.index)\n"
   ]
  },
  {
   "cell_type": "code",
   "execution_count": 5,
   "metadata": {},
   "outputs": [],
   "source": [
    "truth = df.to_numpy(copy=True)\n",
    "pred = x_df[df.columns].to_numpy(copy=True)\n",
    "for i in range(df.shape[0]):\n",
    "    for j in range(df.shape[1]):\n",
    "        if truth[i][j]!=0.5:\n",
    "            truth[i][j] = pred[i][j]\n",
    "r_df = pd.DataFrame(truth, columns=df.columns, index=s_df.index)"
   ]
  },
  {
   "cell_type": "code",
   "execution_count": 6,
   "metadata": {},
   "outputs": [
    {
     "data": {
      "text/plain": [
       "<Figure size 1080x1800 with 0 Axes>"
      ]
     },
     "metadata": {},
     "output_type": "display_data"
    }
   ],
   "source": [
    "sns.set(rc={'figure.figsize':(15,25)})\n",
    "\n",
    "hm = sns.heatmap(x_df[df.columns], cmap='coolwarm')\n",
    "fig = hm.get_figure()\n",
    "fig.savefig('./results/machine_predicted.png')\n",
    "fig.clear()\n",
    "\n",
    "hm = sns.heatmap(df, cmap='coolwarm')\n",
    "fig = hm.get_figure()\n",
    "fig.savefig('./results/actual_ground_truth.png')\n",
    "fig.clear()\n",
    "\n",
    "hm = sns.heatmap(m_df, cmap='coolwarm')\n",
    "fig = hm.get_figure()\n",
    "fig.savefig('./results/machine_predicted_before_detection.png')\n",
    "fig.clear()\n",
    "\n",
    "hm = sns.heatmap(r_df, cmap='coolwarm')\n",
    "fig = hm.get_figure()\n",
    "fig.savefig('./results/machine_predicted_after_detection.png')\n",
    "fig.clear()"
   ]
  },
  {
   "cell_type": "code",
   "execution_count": 7,
   "metadata": {},
   "outputs": [
    {
     "data": {
      "text/plain": [
       "<Figure size 1080x7200 with 0 Axes>"
      ]
     },
     "metadata": {},
     "output_type": "display_data"
    }
   ],
   "source": [
    "fig, axs = plt.subplots(nrows=4, sharex=True)\n",
    "fig.set_figwidth(15)\n",
    "fig.set_figheight(100)\n",
    "\n",
    "sns.heatmap(x_df[df.columns], ax=axs[0], cmap='coolwarm')\n",
    "sns.heatmap(df, ax=axs[1], cmap='coolwarm')\n",
    "sns.heatmap(m_df, ax=axs[2], cmap='coolwarm')\n",
    "sns.heatmap(r_df, ax=axs[3], cmap='coolwarm')\n",
    "fig.savefig('./results/together.png')\n",
    "fig.clear()"
   ]
  },
  {
   "cell_type": "code",
   "execution_count": 8,
   "metadata": {},
   "outputs": [
    {
     "name": "stdout",
     "output_type": "stream",
     "text": [
      "40.89062500000001\n",
      "40.631578947368425\n",
      "38.01639344262296\n",
      "40.014925373134325\n"
     ]
    }
   ],
   "source": [
    "for i in df.columns:\n",
    "    print(x_df[i].sum())"
   ]
  },
  {
   "cell_type": "code",
   "execution_count": 9,
   "metadata": {},
   "outputs": [
    {
     "name": "stdout",
     "output_type": "stream",
     "text": [
      "29.5\n",
      "36.0\n",
      "43.0\n",
      "53.5\n"
     ]
    }
   ],
   "source": [
    "for i in df.columns:\n",
    "    print(df[i].sum())"
   ]
  }
 ],
 "metadata": {
  "kernelspec": {
   "display_name": "Python 3.8.9 64-bit",
   "language": "python",
   "name": "python3"
  },
  "language_info": {
   "codemirror_mode": {
    "name": "ipython",
    "version": 3
   },
   "file_extension": ".py",
   "mimetype": "text/x-python",
   "name": "python",
   "nbconvert_exporter": "python",
   "pygments_lexer": "ipython3",
   "version": "3.8.9"
  },
  "orig_nbformat": 4,
  "vscode": {
   "interpreter": {
    "hash": "31f2aee4e71d21fbe5cf8b01ff0e069b9275f58929596ceb00d14d90e3e16cd6"
   }
  }
 },
 "nbformat": 4,
 "nbformat_minor": 2
}
