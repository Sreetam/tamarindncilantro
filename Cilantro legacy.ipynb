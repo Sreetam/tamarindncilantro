{
  "cells": [
    {
      "cell_type": "markdown",
      "metadata": {
        "colab_type": "text",
        "id": "view-in-github"
      },
      "source": [
        "<a href=\"https://colab.research.google.com/github/Sreetam/tamarindncilantro/blob/main/Cilantro.ipynb\" target=\"_parent\"><img src=\"https://colab.research.google.com/assets/colab-badge.svg\" alt=\"Open In Colab\"/></a>"
      ]
    },
    {
      "cell_type": "code",
      "execution_count": 1,
      "metadata": {
        "colab": {
          "base_uri": "https://localhost:8080/"
        },
        "id": "oVERUTvW-x5c",
        "outputId": "c9698d80-047d-4f82-cbe4-4b5cdc036420"
      },
      "outputs": [],
      "source": [
        "# !pip3 install wwo-hist\n",
        "# !pip3 install geopy"
      ]
    },
    {
      "cell_type": "code",
      "execution_count": 2,
      "metadata": {
        "id": "eO243zCbU4Lp"
      },
      "outputs": [],
      "source": [
        "import numpy as np\n",
        "import pandas as pd\n",
        "import math\n",
        "from geopy.geocoders import Nominatim\n",
        "from wwo_hist import retrieve_hist_data\n",
        "import geopy.distance\n",
        "from numpy.lib.type_check import nan_to_num\n",
        "import seaborn as sns\n",
        "import matplotlib.pyplot as plt\n",
        "%matplotlib inline"
      ]
    },
    {
      "cell_type": "code",
      "execution_count": 3,
      "metadata": {
        "id": "rU-Vuxnfsds7"
      },
      "outputs": [],
      "source": [
        "df = pd.read_csv(\"https://raw.githubusercontent.com/Sreetam/tamarindncilantro/main/city.csv\")\n",
        "for i in df.columns:\n",
        "  df[i] = df[i].replace({ \"Ab\" : 0.5, \"yes\" : 1, \"no\" : 0})\n",
        "# calling the Nominatim tool\n",
        "loc = Nominatim(user_agent=\"GetLoc\")"
      ]
    },
    {
      "cell_type": "code",
      "execution_count": 4,
      "metadata": {
        "id": "v7D0SgFltR0f"
      },
      "outputs": [],
      "source": [
        "regions = dict()\n",
        "for i in df['city']:\n",
        "  # entering the location name\n",
        "  getLoc = loc.geocode(i + \" County, New York, USA\", timeout=10)\n",
        "  # printing address\n",
        "  regions[i] = [getLoc.latitude, getLoc.longitude]\n",
        "  #print(getLoc.address, regions[i])\n",
        "  "
      ]
    },
    {
      "cell_type": "code",
      "execution_count": 5,
      "metadata": {
        "id": "oUfpQQxS-44L"
      },
      "outputs": [],
      "source": [
        "# frequency = 24\n",
        "# avl = []\n",
        "# start_date = '24-JUNE-2009'\n",
        "# end_date = '25-JUNE-2009'\n",
        "# api_key = 'd53f19519ce445af91c102914222202'\n",
        "# for i in df['city']:\n",
        "#   location_list = [i]\n",
        "#   try:\n",
        "#     hist_weather_data = retrieve_hist_data(api_key, location_list, start_date, end_date, frequency, \n",
        "#                                           location_label = False, export_csv = True, store_df = True)\n",
        "#     avl.append(i)\n",
        "#   except:\n",
        "#     pass\n",
        "# nv = list(set(df['city']) - set(avl))\n",
        "# df.loc[[i in nv for i in df['city']]]"
      ]
    },
    {
      "cell_type": "code",
      "execution_count": 6,
      "metadata": {
        "id": "UXHB4VFCSjkT"
      },
      "outputs": [],
      "source": [
        "# x = np.linspace(0, 10, 100)\n",
        "# y = [(1 + np.exp(-i))**1 for i in x]\n",
        "# plt.plot(x,y)\n",
        "# plt.show()"
      ]
    },
    {
      "cell_type": "code",
      "execution_count": null,
      "metadata": {
        "colab": {
          "base_uri": "https://localhost:8080/"
        },
        "id": "SAhWiCgrK6jH",
        "outputId": "6ef4be56-4ad6-47c5-fc19-fa1746f2d55e"
      },
      "outputs": [],
      "source": [
        "frequency = 24\n",
        "start_date = '24-JUNE-2009'\n",
        "end_date = '17-AUG-2009'\n",
        "api_key = '7be3e38b915c466797954501222908'\n",
        "# location_list = avl\n",
        "location_list = df['city']\n",
        "hist_weather_data = retrieve_hist_data(api_key, location_list, start_date, end_date, frequency, \n",
        "                                      location_label = False, export_csv = True, store_df = True)\n",
        "# !cp ./*.csv ./drive/MyDrive/datacilantro/\n",
        "!mv ./*.csv ./weather_data/\n",
        "!mv ./weather_data/risk_pred.csv ./\n",
        "!mv ./weather_data/city.csv ./"
      ]
    },
    {
      "cell_type": "code",
      "execution_count": 31,
      "metadata": {},
      "outputs": [],
      "source": [
        "dat = ['date_time', 'humidity', 'tempC']\n",
        "hist_weather_data = []\n",
        "for i in location_list:\n",
        "    hist_weather_data.append(pd.read_csv('./weather_data/'+i+'.csv')[dat])"
      ]
    },
    {
      "cell_type": "code",
      "execution_count": 8,
      "metadata": {
        "id": "KapqNSvyZKTv"
      },
      "outputs": [],
      "source": [
        "\n",
        "for i in range(len(hist_weather_data)):\n",
        "  hist_weather_data[i] = hist_weather_data[i][dat].reset_index(drop=True)"
      ]
    },
    {
      "cell_type": "code",
      "execution_count": 32,
      "metadata": {
        "id": "6SNy-nhVcz6t"
      },
      "outputs": [],
      "source": [
        "def getDat(atr, date):\n",
        "  val = dict()\n",
        "  for i in range(len(hist_weather_data)):\n",
        "    # val[df['city'][i]] = 1/(1 + np.exp(-float(hist_weather_data[i][atr][date])/100))\n",
        "    val[df['city'][i]] = float(hist_weather_data[i][atr][date])\n",
        "  return val"
      ]
    },
    {
      "cell_type": "code",
      "execution_count": 33,
      "metadata": {
        "id": "v3d2-KZNmGsM"
      },
      "outputs": [],
      "source": [
        "# Higher weight means more probability of transmission\n",
        "def calc_weight(x, y):\n",
        "  d = geopy.distance.geodesic(regions[x], regions[y]).km\n",
        "  if d==0: return 0\n",
        "  return 1/(1 + np.exp(-1/d))\n",
        "\n",
        "# Calculate the decay as per the formula\n",
        "def find_decay():\n",
        "    d = 0.6666667\n",
        "    return np.array([[d, d]])"
      ]
    },
    {
      "cell_type": "code",
      "execution_count": 34,
      "metadata": {
        "id": "FO9Uoy8VmpAz"
      },
      "outputs": [],
      "source": [
        "# The transmission graph contains info of the vector score, ie, weights\n",
        "# between two nodes L1 and L2\n",
        "\n",
        "class transmission_graph:\n",
        "  # dense = []\n",
        "  # susceptibility = dict()\n",
        "  def __init__(self, sample=False):\n",
        "    # n denotes the number of districts or nodes in the graph\n",
        "    self.tempC = dict()\n",
        "    self.humidity = dict()\n",
        "    self.n = len(regions)\n",
        "    self.city = list(regions.keys())\n",
        "    # adj_matrix is the adjacency matrix\n",
        "    # The ith row and jth column of the adjacency matrix\n",
        "    # stores the weight of the edge between ith and jth node\n",
        "    self.adj_matrix = dict()\n",
        "    self.E = [[-1, -1], [-1, -1]]\n",
        "    self.susceptibility = dict()\n",
        "    self.initialize_matrix()\n",
        "\n",
        "  # This function initialises the graph with nodes and stores weights between each node of the graph\n",
        "  def initialize_matrix(self):\n",
        "    # Iterate over each node in the graph\n",
        "    for i in regions.keys():\n",
        "      # Iterate over all the neighbours\n",
        "      self.adj_matrix[i] = dict()\n",
        "      for j in regions.keys():\n",
        "        self.adj_matrix[i][j] = calc_weight(i, j)\n",
        "    # Also assign the susceptibility value of each node\n",
        "    self.compute_susceptibility(0)\n",
        "  def compute_susceptibility(self, day):\n",
        "    s = dict()\n",
        "    self.tempC = getDat('tempC', day)\n",
        "    self.humidity = getDat('humidity', day)\n",
        "    # print(self.tempC['Albany'])\n",
        "    for i in regions.keys():\n",
        "        self.susceptibility[i] = self.calc_susceptibility_score(i)[0][0]\n",
        "        s[i] = self.calc_susceptibility_score(i)[0][0]\n",
        "        # if i=='Albany':\n",
        "        #   print(self.calc_susceptibility_score(i)[0][0])\n",
        "    return s\n",
        "  # Function to modify the edge weight between two regions\n",
        "  def change_weight(self, r1, r2, wt):\n",
        "    self.adj_matrix[r1][r2] = wt\n",
        "  def calc_susceptibility_score(self, node):\n",
        "    Sn = np.array([[self.tempC[node], self.humidity[node]]])\n",
        "    Sn = Sn.transpose()\n",
        "    decay = find_decay()\n",
        "    y = np.matmul(decay, Sn)\n",
        "    # if node=='Albany':\n",
        "    #   print(y)\n",
        "    return y"
      ]
    },
    {
      "cell_type": "code",
      "execution_count": 35,
      "metadata": {
        "id": "KrDYDriq3YBL"
      },
      "outputs": [],
      "source": [
        "g = transmission_graph()"
      ]
    },
    {
      "cell_type": "code",
      "execution_count": 36,
      "metadata": {
        "id": "CWJVISEsZ_Cj"
      },
      "outputs": [],
      "source": [
        "susceptibility_df = dict()\n",
        "# s_l = []\n",
        "for i in range(len(hist_weather_data[0]['date_time'])):\n",
        "  susceptibility_df[i] = g.compute_susceptibility(i)\n",
        "  # g.compute_susceptibility(i)\n",
        "  # susceptibility_df[i] = g.susceptibility\n",
        "  # s_l.append(g.susceptibility)\n",
        "  # print(g.susceptibility['Albany'])\n",
        "s_df = pd.DataFrame(susceptibility_df)"
      ]
    },
    {
      "cell_type": "code",
      "execution_count": 37,
      "metadata": {},
      "outputs": [
        {
          "data": {
            "text/plain": [
              "Index(['city', '06/24/2009', '06/30/2009', '07/08/2009', '08/17/2009'], dtype='object')"
            ]
          },
          "execution_count": 37,
          "metadata": {},
          "output_type": "execute_result"
        }
      ],
      "source": [
        "df.columns"
      ]
    },
    {
      "cell_type": "code",
      "execution_count": 38,
      "metadata": {},
      "outputs": [
        {
          "data": {
            "text/plain": [
              "Int64Index([ 0,  1,  2,  3,  4,  5,  6,  7,  8,  9, 10, 11, 12, 13, 14, 15, 16,\n",
              "            17, 18, 19, 20, 21, 22, 23, 24, 25, 26, 27, 28, 29, 30, 31, 32, 33,\n",
              "            34, 35, 36, 37, 38, 39, 40, 41, 42, 43, 44, 45, 46, 47, 48, 49, 50,\n",
              "            51, 52, 53, 54],\n",
              "           dtype='int64')"
            ]
          },
          "execution_count": 38,
          "metadata": {},
          "output_type": "execute_result"
        }
      ],
      "source": [
        "s_df.columns"
      ]
    },
    {
      "cell_type": "code",
      "execution_count": 39,
      "metadata": {},
      "outputs": [],
      "source": [
        "s_df.columns = [d.strftime('%m/%d/%Y') for d in pd.date_range(df.columns[1], df.columns[-1],freq='d')]"
      ]
    },
    {
      "cell_type": "code",
      "execution_count": 40,
      "metadata": {},
      "outputs": [],
      "source": [
        "s_df.index.name = \"city\""
      ]
    },
    {
      "cell_type": "code",
      "execution_count": 41,
      "metadata": {},
      "outputs": [],
      "source": [
        "s_df.to_csv(\"risk_pred.csv\")\n"
      ]
    },
    {
      "cell_type": "code",
      "execution_count": 42,
      "metadata": {
        "colab": {
          "base_uri": "https://localhost:8080/",
          "height": 286
        },
        "id": "MDsECRtMZAYS",
        "outputId": "cb6b3446-b7ae-4ea8-e929-0865d14fd391"
      },
      "outputs": [
        {
          "data": {
            "text/plain": [
              "<AxesSubplot:ylabel='city'>"
            ]
          },
          "execution_count": 42,
          "metadata": {},
          "output_type": "execute_result"
        },
        {
          "data": {
            "image/png": "[encoded data removed]",
            "text/plain": [
              "<Figure size 432x288 with 2 Axes>"
            ]
          },
          "metadata": {
            "needs_background": "light"
          },
          "output_type": "display_data"
        }
      ],
      "source": [
        "sns.heatmap(s_df[df.columns[1:]])"
      ]
    },
    {
      "cell_type": "code",
      "execution_count": 43,
      "metadata": {
        "colab": {
          "base_uri": "https://localhost:8080/",
          "height": 286
        },
        "id": "6SRsqQYQcuKW",
        "outputId": "609c9a47-20c6-4d6a-8423-0fdb04a2509d"
      },
      "outputs": [
        {
          "data": {
            "text/plain": [
              "<AxesSubplot:ylabel='city'>"
            ]
          },
          "execution_count": 43,
          "metadata": {},
          "output_type": "execute_result"
        },
        {
          "data": {
            "image/png": "[encoded data removed]",
            "text/plain": [
              "<Figure size 432x288 with 2 Axes>"
            ]
          },
          "metadata": {
            "needs_background": "light"
          },
          "output_type": "display_data"
        }
      ],
      "source": [
        "sns.heatmap(df.set_index(['city']))"
      ]
    },
    {
      "cell_type": "code",
      "execution_count": 44,
      "metadata": {
        "colab": {
          "base_uri": "https://localhost:8080/",
          "height": 1000
        },
        "id": "0ZC0u2n1dDtX",
        "outputId": "59ac80b4-21d6-45ee-d654-a3ace6863607"
      },
      "outputs": [
        {
          "data": {
            "text/html": [
              "<div>\n",
              "<style scoped>\n",
              "    .dataframe tbody tr th:only-of-type {\n",
              "        vertical-align: middle;\n",
              "    }\n",
              "\n",
              "    .dataframe tbody tr th {\n",
              "        vertical-align: top;\n",
              "    }\n",
              "\n",
              "    .dataframe thead th {\n",
              "        text-align: right;\n",
              "    }\n",
              "</style>\n",
              "<table border=\"1\" class=\"dataframe\">\n",
              "  <thead>\n",
              "    <tr style=\"text-align: right;\">\n",
              "      <th></th>\n",
              "      <th>city</th>\n",
              "      <th>06/24/2009</th>\n",
              "      <th>06/30/2009</th>\n",
              "      <th>07/08/2009</th>\n",
              "      <th>08/17/2009</th>\n",
              "    </tr>\n",
              "  </thead>\n",
              "  <tbody>\n",
              "    <tr>\n",
              "      <th>0</th>\n",
              "      <td>Niagara</td>\n",
              "      <td>0.5</td>\n",
              "      <td>0.5</td>\n",
              "      <td>0.5</td>\n",
              "      <td>1.0</td>\n",
              "    </tr>\n",
              "    <tr>\n",
              "      <th>1</th>\n",
              "      <td>Genesee</td>\n",
              "      <td>0.5</td>\n",
              "      <td>1.0</td>\n",
              "      <td>1.0</td>\n",
              "      <td>1.0</td>\n",
              "    </tr>\n",
              "    <tr>\n",
              "      <th>2</th>\n",
              "      <td>Wyoming</td>\n",
              "      <td>0.5</td>\n",
              "      <td>0.5</td>\n",
              "      <td>0.5</td>\n",
              "      <td>1.0</td>\n",
              "    </tr>\n",
              "    <tr>\n",
              "      <th>3</th>\n",
              "      <td>Erie</td>\n",
              "      <td>0.5</td>\n",
              "      <td>1.0</td>\n",
              "      <td>1.0</td>\n",
              "      <td>1.0</td>\n",
              "    </tr>\n",
              "    <tr>\n",
              "      <th>4</th>\n",
              "      <td>Chautauqua</td>\n",
              "      <td>0.5</td>\n",
              "      <td>0.5</td>\n",
              "      <td>1.0</td>\n",
              "      <td>1.0</td>\n",
              "    </tr>\n",
              "    <tr>\n",
              "      <th>5</th>\n",
              "      <td>Cattaraugus</td>\n",
              "      <td>0.5</td>\n",
              "      <td>0.5</td>\n",
              "      <td>0.5</td>\n",
              "      <td>1.0</td>\n",
              "    </tr>\n",
              "    <tr>\n",
              "      <th>6</th>\n",
              "      <td>Allegany</td>\n",
              "      <td>0.5</td>\n",
              "      <td>0.5</td>\n",
              "      <td>0.5</td>\n",
              "      <td>1.0</td>\n",
              "    </tr>\n",
              "    <tr>\n",
              "      <th>7</th>\n",
              "      <td>Monroe</td>\n",
              "      <td>0.5</td>\n",
              "      <td>1.0</td>\n",
              "      <td>1.0</td>\n",
              "      <td>1.0</td>\n",
              "    </tr>\n",
              "    <tr>\n",
              "      <th>8</th>\n",
              "      <td>Steuben</td>\n",
              "      <td>0.5</td>\n",
              "      <td>0.5</td>\n",
              "      <td>0.5</td>\n",
              "      <td>1.0</td>\n",
              "    </tr>\n",
              "    <tr>\n",
              "      <th>9</th>\n",
              "      <td>Yates</td>\n",
              "      <td>0.5</td>\n",
              "      <td>0.5</td>\n",
              "      <td>0.5</td>\n",
              "      <td>1.0</td>\n",
              "    </tr>\n",
              "    <tr>\n",
              "      <th>10</th>\n",
              "      <td>Ontario</td>\n",
              "      <td>0.5</td>\n",
              "      <td>1.0</td>\n",
              "      <td>1.0</td>\n",
              "      <td>1.0</td>\n",
              "    </tr>\n",
              "    <tr>\n",
              "      <th>11</th>\n",
              "      <td>Wayne</td>\n",
              "      <td>0.5</td>\n",
              "      <td>0.5</td>\n",
              "      <td>1.0</td>\n",
              "      <td>1.0</td>\n",
              "    </tr>\n",
              "    <tr>\n",
              "      <th>12</th>\n",
              "      <td>Livingston</td>\n",
              "      <td>0.5</td>\n",
              "      <td>0.5</td>\n",
              "      <td>0.5</td>\n",
              "      <td>1.0</td>\n",
              "    </tr>\n",
              "    <tr>\n",
              "      <th>13</th>\n",
              "      <td>Schuyler</td>\n",
              "      <td>0.5</td>\n",
              "      <td>0.5</td>\n",
              "      <td>0.5</td>\n",
              "      <td>1.0</td>\n",
              "    </tr>\n",
              "    <tr>\n",
              "      <th>14</th>\n",
              "      <td>Chemung</td>\n",
              "      <td>0.5</td>\n",
              "      <td>0.5</td>\n",
              "      <td>0.5</td>\n",
              "      <td>0.5</td>\n",
              "    </tr>\n",
              "    <tr>\n",
              "      <th>15</th>\n",
              "      <td>Tioga</td>\n",
              "      <td>0.5</td>\n",
              "      <td>0.5</td>\n",
              "      <td>0.5</td>\n",
              "      <td>1.0</td>\n",
              "    </tr>\n",
              "    <tr>\n",
              "      <th>16</th>\n",
              "      <td>Tompkins</td>\n",
              "      <td>1.0</td>\n",
              "      <td>1.0</td>\n",
              "      <td>1.0</td>\n",
              "      <td>1.0</td>\n",
              "    </tr>\n",
              "    <tr>\n",
              "      <th>17</th>\n",
              "      <td>Seneca</td>\n",
              "      <td>0.5</td>\n",
              "      <td>0.5</td>\n",
              "      <td>0.5</td>\n",
              "      <td>1.0</td>\n",
              "    </tr>\n",
              "    <tr>\n",
              "      <th>18</th>\n",
              "      <td>Onondaga</td>\n",
              "      <td>0.5</td>\n",
              "      <td>0.5</td>\n",
              "      <td>1.0</td>\n",
              "      <td>1.0</td>\n",
              "    </tr>\n",
              "    <tr>\n",
              "      <th>19</th>\n",
              "      <td>Cortland</td>\n",
              "      <td>0.5</td>\n",
              "      <td>1.0</td>\n",
              "      <td>1.0</td>\n",
              "      <td>1.0</td>\n",
              "    </tr>\n",
              "    <tr>\n",
              "      <th>20</th>\n",
              "      <td>Jefferson</td>\n",
              "      <td>0.5</td>\n",
              "      <td>1.0</td>\n",
              "      <td>1.0</td>\n",
              "      <td>1.0</td>\n",
              "    </tr>\n",
              "    <tr>\n",
              "      <th>21</th>\n",
              "      <td>Oswego</td>\n",
              "      <td>0.5</td>\n",
              "      <td>0.5</td>\n",
              "      <td>0.5</td>\n",
              "      <td>1.0</td>\n",
              "    </tr>\n",
              "    <tr>\n",
              "      <th>22</th>\n",
              "      <td>Oneida</td>\n",
              "      <td>0.5</td>\n",
              "      <td>0.5</td>\n",
              "      <td>1.0</td>\n",
              "      <td>1.0</td>\n",
              "    </tr>\n",
              "    <tr>\n",
              "      <th>23</th>\n",
              "      <td>Madison</td>\n",
              "      <td>0.5</td>\n",
              "      <td>0.5</td>\n",
              "      <td>0.5</td>\n",
              "      <td>0.5</td>\n",
              "    </tr>\n",
              "    <tr>\n",
              "      <th>24</th>\n",
              "      <td>Chenango</td>\n",
              "      <td>0.5</td>\n",
              "      <td>1.0</td>\n",
              "      <td>1.0</td>\n",
              "      <td>1.0</td>\n",
              "    </tr>\n",
              "    <tr>\n",
              "      <th>25</th>\n",
              "      <td>Broome</td>\n",
              "      <td>0.5</td>\n",
              "      <td>0.5</td>\n",
              "      <td>0.5</td>\n",
              "      <td>1.0</td>\n",
              "    </tr>\n",
              "    <tr>\n",
              "      <th>26</th>\n",
              "      <td>Otsego</td>\n",
              "      <td>0.5</td>\n",
              "      <td>0.5</td>\n",
              "      <td>1.0</td>\n",
              "      <td>1.0</td>\n",
              "    </tr>\n",
              "    <tr>\n",
              "      <th>27</th>\n",
              "      <td>lewis</td>\n",
              "      <td>0.5</td>\n",
              "      <td>0.5</td>\n",
              "      <td>1.0</td>\n",
              "      <td>1.0</td>\n",
              "    </tr>\n",
              "    <tr>\n",
              "      <th>28</th>\n",
              "      <td>Herkimer</td>\n",
              "      <td>0.5</td>\n",
              "      <td>0.5</td>\n",
              "      <td>0.5</td>\n",
              "      <td>0.5</td>\n",
              "    </tr>\n",
              "    <tr>\n",
              "      <th>29</th>\n",
              "      <td>Hamilton</td>\n",
              "      <td>0.5</td>\n",
              "      <td>0.5</td>\n",
              "      <td>0.5</td>\n",
              "      <td>1.0</td>\n",
              "    </tr>\n",
              "    <tr>\n",
              "      <th>30</th>\n",
              "      <td>Franklin</td>\n",
              "      <td>0.5</td>\n",
              "      <td>1.0</td>\n",
              "      <td>1.0</td>\n",
              "      <td>1.0</td>\n",
              "    </tr>\n",
              "    <tr>\n",
              "      <th>31</th>\n",
              "      <td>Clinton</td>\n",
              "      <td>0.5</td>\n",
              "      <td>1.0</td>\n",
              "      <td>1.0</td>\n",
              "      <td>1.0</td>\n",
              "    </tr>\n",
              "    <tr>\n",
              "      <th>32</th>\n",
              "      <td>Essex</td>\n",
              "      <td>0.5</td>\n",
              "      <td>0.5</td>\n",
              "      <td>0.5</td>\n",
              "      <td>1.0</td>\n",
              "    </tr>\n",
              "    <tr>\n",
              "      <th>33</th>\n",
              "      <td>Warren</td>\n",
              "      <td>0.5</td>\n",
              "      <td>0.5</td>\n",
              "      <td>1.0</td>\n",
              "      <td>1.0</td>\n",
              "    </tr>\n",
              "    <tr>\n",
              "      <th>34</th>\n",
              "      <td>Washington</td>\n",
              "      <td>0.5</td>\n",
              "      <td>0.5</td>\n",
              "      <td>1.0</td>\n",
              "      <td>1.0</td>\n",
              "    </tr>\n",
              "    <tr>\n",
              "      <th>35</th>\n",
              "      <td>Fulton</td>\n",
              "      <td>0.5</td>\n",
              "      <td>0.5</td>\n",
              "      <td>0.5</td>\n",
              "      <td>1.0</td>\n",
              "    </tr>\n",
              "    <tr>\n",
              "      <th>36</th>\n",
              "      <td>Saratoga</td>\n",
              "      <td>0.5</td>\n",
              "      <td>0.5</td>\n",
              "      <td>1.0</td>\n",
              "      <td>1.0</td>\n",
              "    </tr>\n",
              "    <tr>\n",
              "      <th>37</th>\n",
              "      <td>Schenectady</td>\n",
              "      <td>0.5</td>\n",
              "      <td>1.0</td>\n",
              "      <td>1.0</td>\n",
              "      <td>1.0</td>\n",
              "    </tr>\n",
              "    <tr>\n",
              "      <th>38</th>\n",
              "      <td>Montgomery</td>\n",
              "      <td>0.5</td>\n",
              "      <td>0.5</td>\n",
              "      <td>1.0</td>\n",
              "      <td>1.0</td>\n",
              "    </tr>\n",
              "    <tr>\n",
              "      <th>39</th>\n",
              "      <td>Schoharie</td>\n",
              "      <td>0.5</td>\n",
              "      <td>0.5</td>\n",
              "      <td>0.5</td>\n",
              "      <td>1.0</td>\n",
              "    </tr>\n",
              "    <tr>\n",
              "      <th>40</th>\n",
              "      <td>Rensselaer</td>\n",
              "      <td>0.5</td>\n",
              "      <td>0.5</td>\n",
              "      <td>1.0</td>\n",
              "      <td>1.0</td>\n",
              "    </tr>\n",
              "    <tr>\n",
              "      <th>41</th>\n",
              "      <td>Albany</td>\n",
              "      <td>0.5</td>\n",
              "      <td>0.5</td>\n",
              "      <td>1.0</td>\n",
              "      <td>1.0</td>\n",
              "    </tr>\n",
              "    <tr>\n",
              "      <th>42</th>\n",
              "      <td>Delaware</td>\n",
              "      <td>0.5</td>\n",
              "      <td>0.5</td>\n",
              "      <td>0.5</td>\n",
              "      <td>1.0</td>\n",
              "    </tr>\n",
              "    <tr>\n",
              "      <th>43</th>\n",
              "      <td>Greene</td>\n",
              "      <td>0.5</td>\n",
              "      <td>0.5</td>\n",
              "      <td>0.5</td>\n",
              "      <td>1.0</td>\n",
              "    </tr>\n",
              "    <tr>\n",
              "      <th>44</th>\n",
              "      <td>Ulster</td>\n",
              "      <td>0.5</td>\n",
              "      <td>1.0</td>\n",
              "      <td>1.0</td>\n",
              "      <td>1.0</td>\n",
              "    </tr>\n",
              "    <tr>\n",
              "      <th>45</th>\n",
              "      <td>Sullivan</td>\n",
              "      <td>0.5</td>\n",
              "      <td>0.5</td>\n",
              "      <td>0.5</td>\n",
              "      <td>0.5</td>\n",
              "    </tr>\n",
              "    <tr>\n",
              "      <th>46</th>\n",
              "      <td>Columbia</td>\n",
              "      <td>0.5</td>\n",
              "      <td>0.5</td>\n",
              "      <td>0.5</td>\n",
              "      <td>1.0</td>\n",
              "    </tr>\n",
              "    <tr>\n",
              "      <th>47</th>\n",
              "      <td>Dutchess</td>\n",
              "      <td>0.5</td>\n",
              "      <td>0.5</td>\n",
              "      <td>1.0</td>\n",
              "      <td>1.0</td>\n",
              "    </tr>\n",
              "    <tr>\n",
              "      <th>48</th>\n",
              "      <td>Putnam</td>\n",
              "      <td>0.5</td>\n",
              "      <td>0.5</td>\n",
              "      <td>0.5</td>\n",
              "      <td>1.0</td>\n",
              "    </tr>\n",
              "    <tr>\n",
              "      <th>49</th>\n",
              "      <td>Orange</td>\n",
              "      <td>0.5</td>\n",
              "      <td>1.0</td>\n",
              "      <td>1.0</td>\n",
              "      <td>1.0</td>\n",
              "    </tr>\n",
              "    <tr>\n",
              "      <th>50</th>\n",
              "      <td>Westchester</td>\n",
              "      <td>0.5</td>\n",
              "      <td>0.5</td>\n",
              "      <td>1.0</td>\n",
              "      <td>1.0</td>\n",
              "    </tr>\n",
              "    <tr>\n",
              "      <th>51</th>\n",
              "      <td>Rockland</td>\n",
              "      <td>0.5</td>\n",
              "      <td>0.5</td>\n",
              "      <td>0.5</td>\n",
              "      <td>1.0</td>\n",
              "    </tr>\n",
              "    <tr>\n",
              "      <th>52</th>\n",
              "      <td>Nassau</td>\n",
              "      <td>0.5</td>\n",
              "      <td>0.5</td>\n",
              "      <td>0.5</td>\n",
              "      <td>1.0</td>\n",
              "    </tr>\n",
              "    <tr>\n",
              "      <th>53</th>\n",
              "      <td>Suffolk</td>\n",
              "      <td>0.5</td>\n",
              "      <td>1.0</td>\n",
              "      <td>1.0</td>\n",
              "      <td>1.0</td>\n",
              "    </tr>\n",
              "    <tr>\n",
              "      <th>54</th>\n",
              "      <td>richmond</td>\n",
              "      <td>0.5</td>\n",
              "      <td>0.5</td>\n",
              "      <td>0.5</td>\n",
              "      <td>0.5</td>\n",
              "    </tr>\n",
              "    <tr>\n",
              "      <th>55</th>\n",
              "      <td>queens</td>\n",
              "      <td>0.5</td>\n",
              "      <td>0.5</td>\n",
              "      <td>0.5</td>\n",
              "      <td>0.5</td>\n",
              "    </tr>\n",
              "    <tr>\n",
              "      <th>56</th>\n",
              "      <td>kings</td>\n",
              "      <td>0.5</td>\n",
              "      <td>0.5</td>\n",
              "      <td>0.5</td>\n",
              "      <td>0.0</td>\n",
              "    </tr>\n",
              "    <tr>\n",
              "      <th>57</th>\n",
              "      <td>bronx</td>\n",
              "      <td>0.5</td>\n",
              "      <td>0.5</td>\n",
              "      <td>0.5</td>\n",
              "      <td>0.5</td>\n",
              "    </tr>\n",
              "  </tbody>\n",
              "</table>\n",
              "</div>"
            ],
            "text/plain": [
              "           city  06/24/2009  06/30/2009  07/08/2009  08/17/2009\n",
              "0       Niagara         0.5         0.5         0.5         1.0\n",
              "1       Genesee         0.5         1.0         1.0         1.0\n",
              "2       Wyoming         0.5         0.5         0.5         1.0\n",
              "3          Erie         0.5         1.0         1.0         1.0\n",
              "4    Chautauqua         0.5         0.5         1.0         1.0\n",
              "5   Cattaraugus         0.5         0.5         0.5         1.0\n",
              "6      Allegany         0.5         0.5         0.5         1.0\n",
              "7        Monroe         0.5         1.0         1.0         1.0\n",
              "8       Steuben         0.5         0.5         0.5         1.0\n",
              "9         Yates         0.5         0.5         0.5         1.0\n",
              "10      Ontario         0.5         1.0         1.0         1.0\n",
              "11        Wayne         0.5         0.5         1.0         1.0\n",
              "12   Livingston         0.5         0.5         0.5         1.0\n",
              "13     Schuyler         0.5         0.5         0.5         1.0\n",
              "14      Chemung         0.5         0.5         0.5         0.5\n",
              "15        Tioga         0.5         0.5         0.5         1.0\n",
              "16     Tompkins         1.0         1.0         1.0         1.0\n",
              "17       Seneca         0.5         0.5         0.5         1.0\n",
              "18     Onondaga         0.5         0.5         1.0         1.0\n",
              "19     Cortland         0.5         1.0         1.0         1.0\n",
              "20    Jefferson         0.5         1.0         1.0         1.0\n",
              "21       Oswego         0.5         0.5         0.5         1.0\n",
              "22       Oneida         0.5         0.5         1.0         1.0\n",
              "23      Madison         0.5         0.5         0.5         0.5\n",
              "24     Chenango         0.5         1.0         1.0         1.0\n",
              "25       Broome         0.5         0.5         0.5         1.0\n",
              "26       Otsego         0.5         0.5         1.0         1.0\n",
              "27        lewis         0.5         0.5         1.0         1.0\n",
              "28     Herkimer         0.5         0.5         0.5         0.5\n",
              "29     Hamilton         0.5         0.5         0.5         1.0\n",
              "30     Franklin         0.5         1.0         1.0         1.0\n",
              "31      Clinton         0.5         1.0         1.0         1.0\n",
              "32        Essex         0.5         0.5         0.5         1.0\n",
              "33       Warren         0.5         0.5         1.0         1.0\n",
              "34   Washington         0.5         0.5         1.0         1.0\n",
              "35       Fulton         0.5         0.5         0.5         1.0\n",
              "36     Saratoga         0.5         0.5         1.0         1.0\n",
              "37  Schenectady         0.5         1.0         1.0         1.0\n",
              "38   Montgomery         0.5         0.5         1.0         1.0\n",
              "39    Schoharie         0.5         0.5         0.5         1.0\n",
              "40   Rensselaer         0.5         0.5         1.0         1.0\n",
              "41       Albany         0.5         0.5         1.0         1.0\n",
              "42     Delaware         0.5         0.5         0.5         1.0\n",
              "43       Greene         0.5         0.5         0.5         1.0\n",
              "44       Ulster         0.5         1.0         1.0         1.0\n",
              "45     Sullivan         0.5         0.5         0.5         0.5\n",
              "46     Columbia         0.5         0.5         0.5         1.0\n",
              "47     Dutchess         0.5         0.5         1.0         1.0\n",
              "48       Putnam         0.5         0.5         0.5         1.0\n",
              "49       Orange         0.5         1.0         1.0         1.0\n",
              "50  Westchester         0.5         0.5         1.0         1.0\n",
              "51     Rockland         0.5         0.5         0.5         1.0\n",
              "52       Nassau         0.5         0.5         0.5         1.0\n",
              "53      Suffolk         0.5         1.0         1.0         1.0\n",
              "54     richmond         0.5         0.5         0.5         0.5\n",
              "55       queens         0.5         0.5         0.5         0.5\n",
              "56        kings         0.5         0.5         0.5         0.0\n",
              "57        bronx         0.5         0.5         0.5         0.5"
            ]
          },
          "execution_count": 44,
          "metadata": {},
          "output_type": "execute_result"
        }
      ],
      "source": [
        "df"
      ]
    }
  ],
  "metadata": {
    "colab": {
      "authorship_tag": "ABX9TyNwM1ZIEOdgFGB95eTmd5mk",
      "include_colab_link": true,
      "mount_file_id": "1UMqMoxFGwZA1BZu3iAm9Pr95jujQc_Cl",
      "name": "Cilantro.ipynb",
      "provenance": []
    },
    "kernelspec": {
      "display_name": "Python 3.8.9 64-bit",
      "language": "python",
      "name": "python3"
    },
    "language_info": {
      "codemirror_mode": {
        "name": "ipython",
        "version": 3
      },
      "file_extension": ".py",
      "mimetype": "text/x-python",
      "name": "python",
      "nbconvert_exporter": "python",
      "pygments_lexer": "ipython3",
      "version": "3.8.9"
    },
    "vscode": {
      "interpreter": {
        "hash": "31f2aee4e71d21fbe5cf8b01ff0e069b9275f58929596ceb00d14d90e3e16cd6"
      }
    }
  },
  "nbformat": 4,
  "nbformat_minor": 0
}
