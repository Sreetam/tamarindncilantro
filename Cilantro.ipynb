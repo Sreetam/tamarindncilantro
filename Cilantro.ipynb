{
  "cells": [
    {
      "cell_type": "markdown",
      "metadata": {
        "colab_type": "text",
        "id": "view-in-github"
      },
      "source": [
        "<a href=\"https://colab.research.google.com/github/Sreetam/tamarindncilantro/blob/main/Cilantro.ipynb\" target=\"_parent\"><img src=\"https://colab.research.google.com/assets/colab-badge.svg\" alt=\"Open In Colab\"/></a>"
      ]
    },
    {
      "cell_type": "code",
      "execution_count": 1,
      "metadata": {
        "colab": {
          "base_uri": "https://localhost:8080/"
        },
        "id": "oVERUTvW-x5c",
        "outputId": "c9698d80-047d-4f82-cbe4-4b5cdc036420"
      },
      "outputs": [],
      "source": [
        "# !pip3 install wwo-hist\n",
        "# !pip3 install geopy"
      ]
    },
    {
      "cell_type": "code",
      "execution_count": 2,
      "metadata": {
        "id": "eO243zCbU4Lp"
      },
      "outputs": [],
      "source": [
        "import numpy as np\n",
        "import pandas as pd\n",
        "import math\n",
        "from geopy.geocoders import Nominatim\n",
        "from wwo_hist import retrieve_hist_data\n",
        "import geopy.distance\n",
        "from numpy.lib.type_check import nan_to_num\n",
        "import seaborn as sns\n",
        "import matplotlib.pyplot as plt\n",
        "%matplotlib inline"
      ]
    },
    {
      "cell_type": "code",
      "execution_count": 3,
      "metadata": {
        "id": "rU-Vuxnfsds7"
      },
      "outputs": [],
      "source": [
        "df = pd.read_csv(\"https://raw.githubusercontent.com/Sreetam/tamarindncilantro/main/city.csv\")\n",
        "for i in df.columns:\n",
        "  df[i] = df[i].replace({ \"Ab\" : 0.5, \"yes\" : 1, \"no\" : 0})\n",
        "# calling the Nominatim tool\n",
        "loc = Nominatim(user_agent=\"GetLoc\")"
      ]
    },
    {
      "cell_type": "code",
      "execution_count": 4,
      "metadata": {
        "id": "v7D0SgFltR0f"
      },
      "outputs": [],
      "source": [
        "regions = dict()\n",
        "for i in df['city']:\n",
        "  # entering the location name\n",
        "  getLoc = loc.geocode(i + \" County, New York, USA\", timeout=10)\n",
        "  # printing address\n",
        "  regions[i] = [getLoc.latitude, getLoc.longitude]\n",
        "  #print(getLoc.address, regions[i])\n",
        "  "
      ]
    },
    {
      "cell_type": "code",
      "execution_count": 5,
      "metadata": {
        "id": "oUfpQQxS-44L"
      },
      "outputs": [],
      "source": [
        "# frequency = 24\n",
        "# avl = []\n",
        "# start_date = '24-JUNE-2009'\n",
        "# end_date = '25-JUNE-2009'\n",
        "# api_key = 'd53f19519ce445af91c102914222202'\n",
        "# for i in df['city']:\n",
        "#   location_list = [i]\n",
        "#   try:\n",
        "#     hist_weather_data = retrieve_hist_data(api_key, location_list, start_date, end_date, frequency, \n",
        "#                                           location_label = False, export_csv = True, store_df = True)\n",
        "#     avl.append(i)\n",
        "#   except:\n",
        "#     pass\n",
        "# nv = list(set(df['city']) - set(avl))\n",
        "# df.loc[[i in nv for i in df['city']]]"
      ]
    },
    {
      "cell_type": "code",
      "execution_count": 6,
      "metadata": {
        "id": "UXHB4VFCSjkT"
      },
      "outputs": [],
      "source": [
        "# x = np.linspace(0, 10, 100)\n",
        "# y = [(1 + np.exp(-i))**1 for i in x]\n",
        "# plt.plot(x,y)\n",
        "# plt.show()"
      ]
    },
    {
      "cell_type": "code",
      "execution_count": 7,
      "metadata": {
        "colab": {
          "base_uri": "https://localhost:8080/"
        },
        "id": "SAhWiCgrK6jH",
        "outputId": "6ef4be56-4ad6-47c5-fc19-fa1746f2d55e"
      },
      "outputs": [
        {
          "name": "stdout",
          "output_type": "stream",
          "text": [
            "\n",
            "\n",
            "Retrieving weather data for Niagara\n",
            "\n",
            "\n",
            "Currently retrieving data for Niagara: from 2009-06-24 to 2009-06-30\n"
          ]
        },
        {
          "name": "stderr",
          "output_type": "stream",
          "text": [
            "/Users/sreetam/Library/Python/3.8/lib/python/site-packages/wwo_hist/__init__.py:69: FutureWarning: Argument `closed` is deprecated in favor of `inclusive`.\n",
            "  list_mon_begin = pd.date_range(start_date, end_date, freq='MS', closed='right')\n",
            "/Users/sreetam/Library/Python/3.8/lib/python/site-packages/wwo_hist/__init__.py:74: FutureWarning: Argument `closed` is deprecated in favor of `inclusive`.\n",
            "  list_mon_end = pd.date_range(start_date, end_date, freq='M', closed='left')\n"
          ]
        },
        {
          "name": "stdout",
          "output_type": "stream",
          "text": [
            "Time elapsed (hh:mm:ss.ms) 0:00:00.586072\n",
            "Currently retrieving data for Niagara: from 2009-07-01 to 2009-07-31\n",
            "Time elapsed (hh:mm:ss.ms) 0:00:01.402697\n",
            "Currently retrieving data for Niagara: from 2009-08-01 to 2009-08-17\n",
            "Time elapsed (hh:mm:ss.ms) 0:00:02.053221\n",
            "\n",
            "\n",
            "export Niagara completed!\n",
            "\n",
            "\n",
            "\n",
            "\n",
            "Retrieving weather data for Genesee\n",
            "\n",
            "\n",
            "Currently retrieving data for Genesee: from 2009-06-24 to 2009-06-30\n"
          ]
        },
        {
          "name": "stderr",
          "output_type": "stream",
          "text": [
            "/Users/sreetam/Library/Python/3.8/lib/python/site-packages/wwo_hist/__init__.py:69: FutureWarning: Argument `closed` is deprecated in favor of `inclusive`.\n",
            "  list_mon_begin = pd.date_range(start_date, end_date, freq='MS', closed='right')\n",
            "/Users/sreetam/Library/Python/3.8/lib/python/site-packages/wwo_hist/__init__.py:74: FutureWarning: Argument `closed` is deprecated in favor of `inclusive`.\n",
            "  list_mon_end = pd.date_range(start_date, end_date, freq='M', closed='left')\n"
          ]
        },
        {
          "name": "stdout",
          "output_type": "stream",
          "text": [
            "Time elapsed (hh:mm:ss.ms) 0:00:00.510254\n",
            "Currently retrieving data for Genesee: from 2009-07-01 to 2009-07-31\n",
            "Time elapsed (hh:mm:ss.ms) 0:00:01.375261\n",
            "Currently retrieving data for Genesee: from 2009-08-01 to 2009-08-17\n",
            "Time elapsed (hh:mm:ss.ms) 0:00:02.818990\n",
            "\n",
            "\n",
            "export Genesee completed!\n",
            "\n",
            "\n",
            "\n",
            "\n",
            "Retrieving weather data for Wyoming\n",
            "\n",
            "\n",
            "Currently retrieving data for Wyoming: from 2009-06-24 to 2009-06-30\n"
          ]
        },
        {
          "name": "stderr",
          "output_type": "stream",
          "text": [
            "/Users/sreetam/Library/Python/3.8/lib/python/site-packages/wwo_hist/__init__.py:69: FutureWarning: Argument `closed` is deprecated in favor of `inclusive`.\n",
            "  list_mon_begin = pd.date_range(start_date, end_date, freq='MS', closed='right')\n",
            "/Users/sreetam/Library/Python/3.8/lib/python/site-packages/wwo_hist/__init__.py:74: FutureWarning: Argument `closed` is deprecated in favor of `inclusive`.\n",
            "  list_mon_end = pd.date_range(start_date, end_date, freq='M', closed='left')\n"
          ]
        },
        {
          "name": "stdout",
          "output_type": "stream",
          "text": [
            "Time elapsed (hh:mm:ss.ms) 0:00:00.431617\n",
            "Currently retrieving data for Wyoming: from 2009-07-01 to 2009-07-31\n",
            "Time elapsed (hh:mm:ss.ms) 0:00:01.314714\n",
            "Currently retrieving data for Wyoming: from 2009-08-01 to 2009-08-17\n",
            "Time elapsed (hh:mm:ss.ms) 0:00:02.089621\n",
            "\n",
            "\n",
            "export Wyoming completed!\n",
            "\n",
            "\n",
            "\n",
            "\n",
            "Retrieving weather data for Erie\n",
            "\n",
            "\n",
            "Currently retrieving data for Erie: from 2009-06-24 to 2009-06-30\n"
          ]
        },
        {
          "name": "stderr",
          "output_type": "stream",
          "text": [
            "/Users/sreetam/Library/Python/3.8/lib/python/site-packages/wwo_hist/__init__.py:69: FutureWarning: Argument `closed` is deprecated in favor of `inclusive`.\n",
            "  list_mon_begin = pd.date_range(start_date, end_date, freq='MS', closed='right')\n",
            "/Users/sreetam/Library/Python/3.8/lib/python/site-packages/wwo_hist/__init__.py:74: FutureWarning: Argument `closed` is deprecated in favor of `inclusive`.\n",
            "  list_mon_end = pd.date_range(start_date, end_date, freq='M', closed='left')\n"
          ]
        },
        {
          "name": "stdout",
          "output_type": "stream",
          "text": [
            "Time elapsed (hh:mm:ss.ms) 0:00:00.512204\n",
            "Currently retrieving data for Erie: from 2009-07-01 to 2009-07-31\n",
            "Time elapsed (hh:mm:ss.ms) 0:00:01.251890\n",
            "Currently retrieving data for Erie: from 2009-08-01 to 2009-08-17\n",
            "Time elapsed (hh:mm:ss.ms) 0:00:01.907781\n",
            "\n",
            "\n",
            "export Erie completed!\n",
            "\n",
            "\n",
            "\n",
            "\n",
            "Retrieving weather data for Chautauqua\n",
            "\n",
            "\n",
            "Currently retrieving data for Chautauqua: from 2009-06-24 to 2009-06-30\n"
          ]
        },
        {
          "name": "stderr",
          "output_type": "stream",
          "text": [
            "/Users/sreetam/Library/Python/3.8/lib/python/site-packages/wwo_hist/__init__.py:69: FutureWarning: Argument `closed` is deprecated in favor of `inclusive`.\n",
            "  list_mon_begin = pd.date_range(start_date, end_date, freq='MS', closed='right')\n",
            "/Users/sreetam/Library/Python/3.8/lib/python/site-packages/wwo_hist/__init__.py:74: FutureWarning: Argument `closed` is deprecated in favor of `inclusive`.\n",
            "  list_mon_end = pd.date_range(start_date, end_date, freq='M', closed='left')\n"
          ]
        },
        {
          "name": "stdout",
          "output_type": "stream",
          "text": [
            "Time elapsed (hh:mm:ss.ms) 0:00:00.452286\n",
            "Currently retrieving data for Chautauqua: from 2009-07-01 to 2009-07-31\n",
            "Time elapsed (hh:mm:ss.ms) 0:00:01.403884\n",
            "Currently retrieving data for Chautauqua: from 2009-08-01 to 2009-08-17\n",
            "Time elapsed (hh:mm:ss.ms) 0:00:02.082710\n",
            "\n",
            "\n",
            "export Chautauqua completed!\n",
            "\n",
            "\n",
            "\n",
            "\n",
            "Retrieving weather data for Cattaraugus\n",
            "\n",
            "\n",
            "Currently retrieving data for Cattaraugus: from 2009-06-24 to 2009-06-30\n"
          ]
        },
        {
          "name": "stderr",
          "output_type": "stream",
          "text": [
            "/Users/sreetam/Library/Python/3.8/lib/python/site-packages/wwo_hist/__init__.py:69: FutureWarning: Argument `closed` is deprecated in favor of `inclusive`.\n",
            "  list_mon_begin = pd.date_range(start_date, end_date, freq='MS', closed='right')\n",
            "/Users/sreetam/Library/Python/3.8/lib/python/site-packages/wwo_hist/__init__.py:74: FutureWarning: Argument `closed` is deprecated in favor of `inclusive`.\n",
            "  list_mon_end = pd.date_range(start_date, end_date, freq='M', closed='left')\n"
          ]
        },
        {
          "name": "stdout",
          "output_type": "stream",
          "text": [
            "Time elapsed (hh:mm:ss.ms) 0:00:00.493850\n",
            "Currently retrieving data for Cattaraugus: from 2009-07-01 to 2009-07-31\n",
            "Time elapsed (hh:mm:ss.ms) 0:00:01.283735\n",
            "Currently retrieving data for Cattaraugus: from 2009-08-01 to 2009-08-17\n",
            "Time elapsed (hh:mm:ss.ms) 0:00:01.960585\n",
            "\n",
            "\n",
            "export Cattaraugus completed!\n",
            "\n",
            "\n",
            "\n",
            "\n",
            "Retrieving weather data for Allegany\n",
            "\n",
            "\n",
            "Currently retrieving data for Allegany: from 2009-06-24 to 2009-06-30\n"
          ]
        },
        {
          "name": "stderr",
          "output_type": "stream",
          "text": [
            "/Users/sreetam/Library/Python/3.8/lib/python/site-packages/wwo_hist/__init__.py:69: FutureWarning: Argument `closed` is deprecated in favor of `inclusive`.\n",
            "  list_mon_begin = pd.date_range(start_date, end_date, freq='MS', closed='right')\n",
            "/Users/sreetam/Library/Python/3.8/lib/python/site-packages/wwo_hist/__init__.py:74: FutureWarning: Argument `closed` is deprecated in favor of `inclusive`.\n",
            "  list_mon_end = pd.date_range(start_date, end_date, freq='M', closed='left')\n"
          ]
        },
        {
          "name": "stdout",
          "output_type": "stream",
          "text": [
            "Time elapsed (hh:mm:ss.ms) 0:00:00.416891\n",
            "Currently retrieving data for Allegany: from 2009-07-01 to 2009-07-31\n",
            "Time elapsed (hh:mm:ss.ms) 0:00:01.185954\n",
            "Currently retrieving data for Allegany: from 2009-08-01 to 2009-08-17\n",
            "Time elapsed (hh:mm:ss.ms) 0:00:01.921378\n",
            "\n",
            "\n",
            "export Allegany completed!\n",
            "\n",
            "\n",
            "\n",
            "\n",
            "Retrieving weather data for Monroe\n",
            "\n",
            "\n",
            "Currently retrieving data for Monroe: from 2009-06-24 to 2009-06-30\n"
          ]
        },
        {
          "name": "stderr",
          "output_type": "stream",
          "text": [
            "/Users/sreetam/Library/Python/3.8/lib/python/site-packages/wwo_hist/__init__.py:69: FutureWarning: Argument `closed` is deprecated in favor of `inclusive`.\n",
            "  list_mon_begin = pd.date_range(start_date, end_date, freq='MS', closed='right')\n",
            "/Users/sreetam/Library/Python/3.8/lib/python/site-packages/wwo_hist/__init__.py:74: FutureWarning: Argument `closed` is deprecated in favor of `inclusive`.\n",
            "  list_mon_end = pd.date_range(start_date, end_date, freq='M', closed='left')\n"
          ]
        },
        {
          "name": "stdout",
          "output_type": "stream",
          "text": [
            "Time elapsed (hh:mm:ss.ms) 0:00:00.521246\n",
            "Currently retrieving data for Monroe: from 2009-07-01 to 2009-07-31\n",
            "Time elapsed (hh:mm:ss.ms) 0:00:01.351213\n",
            "Currently retrieving data for Monroe: from 2009-08-01 to 2009-08-17\n",
            "Time elapsed (hh:mm:ss.ms) 0:00:02.032545\n",
            "\n",
            "\n",
            "export Monroe completed!\n",
            "\n",
            "\n",
            "\n",
            "\n",
            "Retrieving weather data for Steuben\n",
            "\n",
            "\n",
            "Currently retrieving data for Steuben: from 2009-06-24 to 2009-06-30\n"
          ]
        },
        {
          "name": "stderr",
          "output_type": "stream",
          "text": [
            "/Users/sreetam/Library/Python/3.8/lib/python/site-packages/wwo_hist/__init__.py:69: FutureWarning: Argument `closed` is deprecated in favor of `inclusive`.\n",
            "  list_mon_begin = pd.date_range(start_date, end_date, freq='MS', closed='right')\n",
            "/Users/sreetam/Library/Python/3.8/lib/python/site-packages/wwo_hist/__init__.py:74: FutureWarning: Argument `closed` is deprecated in favor of `inclusive`.\n",
            "  list_mon_end = pd.date_range(start_date, end_date, freq='M', closed='left')\n"
          ]
        },
        {
          "name": "stdout",
          "output_type": "stream",
          "text": [
            "Time elapsed (hh:mm:ss.ms) 0:00:00.537850\n",
            "Currently retrieving data for Steuben: from 2009-07-01 to 2009-07-31\n",
            "Time elapsed (hh:mm:ss.ms) 0:00:01.490307\n",
            "Currently retrieving data for Steuben: from 2009-08-01 to 2009-08-17\n",
            "Time elapsed (hh:mm:ss.ms) 0:00:02.177694\n",
            "\n",
            "\n",
            "export Steuben completed!\n",
            "\n",
            "\n",
            "\n",
            "\n",
            "Retrieving weather data for Yates\n",
            "\n",
            "\n",
            "Currently retrieving data for Yates: from 2009-06-24 to 2009-06-30\n"
          ]
        },
        {
          "name": "stderr",
          "output_type": "stream",
          "text": [
            "/Users/sreetam/Library/Python/3.8/lib/python/site-packages/wwo_hist/__init__.py:69: FutureWarning: Argument `closed` is deprecated in favor of `inclusive`.\n",
            "  list_mon_begin = pd.date_range(start_date, end_date, freq='MS', closed='right')\n",
            "/Users/sreetam/Library/Python/3.8/lib/python/site-packages/wwo_hist/__init__.py:74: FutureWarning: Argument `closed` is deprecated in favor of `inclusive`.\n",
            "  list_mon_end = pd.date_range(start_date, end_date, freq='M', closed='left')\n"
          ]
        },
        {
          "name": "stdout",
          "output_type": "stream",
          "text": [
            "Time elapsed (hh:mm:ss.ms) 0:00:00.501054\n",
            "Currently retrieving data for Yates: from 2009-07-01 to 2009-07-31\n",
            "Time elapsed (hh:mm:ss.ms) 0:00:01.429893\n",
            "Currently retrieving data for Yates: from 2009-08-01 to 2009-08-17\n",
            "Time elapsed (hh:mm:ss.ms) 0:00:02.043412\n",
            "\n",
            "\n",
            "export Yates completed!\n",
            "\n",
            "\n",
            "\n",
            "\n",
            "Retrieving weather data for Ontario\n",
            "\n",
            "\n",
            "Currently retrieving data for Ontario: from 2009-06-24 to 2009-06-30\n"
          ]
        },
        {
          "name": "stderr",
          "output_type": "stream",
          "text": [
            "/Users/sreetam/Library/Python/3.8/lib/python/site-packages/wwo_hist/__init__.py:69: FutureWarning: Argument `closed` is deprecated in favor of `inclusive`.\n",
            "  list_mon_begin = pd.date_range(start_date, end_date, freq='MS', closed='right')\n",
            "/Users/sreetam/Library/Python/3.8/lib/python/site-packages/wwo_hist/__init__.py:74: FutureWarning: Argument `closed` is deprecated in favor of `inclusive`.\n",
            "  list_mon_end = pd.date_range(start_date, end_date, freq='M', closed='left')\n"
          ]
        },
        {
          "name": "stdout",
          "output_type": "stream",
          "text": [
            "Time elapsed (hh:mm:ss.ms) 0:00:00.399232\n",
            "Currently retrieving data for Ontario: from 2009-07-01 to 2009-07-31\n",
            "Time elapsed (hh:mm:ss.ms) 0:00:01.247102\n",
            "Currently retrieving data for Ontario: from 2009-08-01 to 2009-08-17\n",
            "Time elapsed (hh:mm:ss.ms) 0:00:01.944086\n",
            "\n",
            "\n",
            "export Ontario completed!\n",
            "\n",
            "\n",
            "\n",
            "\n",
            "Retrieving weather data for Wayne\n",
            "\n",
            "\n",
            "Currently retrieving data for Wayne: from 2009-06-24 to 2009-06-30\n"
          ]
        },
        {
          "name": "stderr",
          "output_type": "stream",
          "text": [
            "/Users/sreetam/Library/Python/3.8/lib/python/site-packages/wwo_hist/__init__.py:69: FutureWarning: Argument `closed` is deprecated in favor of `inclusive`.\n",
            "  list_mon_begin = pd.date_range(start_date, end_date, freq='MS', closed='right')\n",
            "/Users/sreetam/Library/Python/3.8/lib/python/site-packages/wwo_hist/__init__.py:74: FutureWarning: Argument `closed` is deprecated in favor of `inclusive`.\n",
            "  list_mon_end = pd.date_range(start_date, end_date, freq='M', closed='left')\n"
          ]
        },
        {
          "name": "stdout",
          "output_type": "stream",
          "text": [
            "Time elapsed (hh:mm:ss.ms) 0:00:00.510867\n",
            "Currently retrieving data for Wayne: from 2009-07-01 to 2009-07-31\n",
            "Time elapsed (hh:mm:ss.ms) 0:00:01.325661\n",
            "Currently retrieving data for Wayne: from 2009-08-01 to 2009-08-17\n",
            "Time elapsed (hh:mm:ss.ms) 0:00:02.032652\n",
            "\n",
            "\n",
            "export Wayne completed!\n",
            "\n",
            "\n",
            "\n",
            "\n",
            "Retrieving weather data for Livingston\n",
            "\n",
            "\n",
            "Currently retrieving data for Livingston: from 2009-06-24 to 2009-06-30\n"
          ]
        },
        {
          "name": "stderr",
          "output_type": "stream",
          "text": [
            "/Users/sreetam/Library/Python/3.8/lib/python/site-packages/wwo_hist/__init__.py:69: FutureWarning: Argument `closed` is deprecated in favor of `inclusive`.\n",
            "  list_mon_begin = pd.date_range(start_date, end_date, freq='MS', closed='right')\n",
            "/Users/sreetam/Library/Python/3.8/lib/python/site-packages/wwo_hist/__init__.py:74: FutureWarning: Argument `closed` is deprecated in favor of `inclusive`.\n",
            "  list_mon_end = pd.date_range(start_date, end_date, freq='M', closed='left')\n"
          ]
        },
        {
          "name": "stdout",
          "output_type": "stream",
          "text": [
            "Time elapsed (hh:mm:ss.ms) 0:00:00.631498\n",
            "Currently retrieving data for Livingston: from 2009-07-01 to 2009-07-31\n",
            "Time elapsed (hh:mm:ss.ms) 0:00:01.423048\n",
            "Currently retrieving data for Livingston: from 2009-08-01 to 2009-08-17\n",
            "Time elapsed (hh:mm:ss.ms) 0:00:02.122829\n",
            "\n",
            "\n",
            "export Livingston completed!\n",
            "\n",
            "\n",
            "\n",
            "\n",
            "Retrieving weather data for Schuyler\n",
            "\n",
            "\n",
            "Currently retrieving data for Schuyler: from 2009-06-24 to 2009-06-30\n"
          ]
        },
        {
          "name": "stderr",
          "output_type": "stream",
          "text": [
            "/Users/sreetam/Library/Python/3.8/lib/python/site-packages/wwo_hist/__init__.py:69: FutureWarning: Argument `closed` is deprecated in favor of `inclusive`.\n",
            "  list_mon_begin = pd.date_range(start_date, end_date, freq='MS', closed='right')\n",
            "/Users/sreetam/Library/Python/3.8/lib/python/site-packages/wwo_hist/__init__.py:74: FutureWarning: Argument `closed` is deprecated in favor of `inclusive`.\n",
            "  list_mon_end = pd.date_range(start_date, end_date, freq='M', closed='left')\n"
          ]
        },
        {
          "name": "stdout",
          "output_type": "stream",
          "text": [
            "Time elapsed (hh:mm:ss.ms) 0:00:00.552628\n",
            "Currently retrieving data for Schuyler: from 2009-07-01 to 2009-07-31\n",
            "Time elapsed (hh:mm:ss.ms) 0:00:01.370351\n",
            "Currently retrieving data for Schuyler: from 2009-08-01 to 2009-08-17\n",
            "Time elapsed (hh:mm:ss.ms) 0:00:01.987896\n",
            "\n",
            "\n",
            "export Schuyler completed!\n",
            "\n",
            "\n",
            "\n",
            "\n",
            "Retrieving weather data for Chemung\n",
            "\n",
            "\n",
            "Currently retrieving data for Chemung: from 2009-06-24 to 2009-06-30\n"
          ]
        },
        {
          "name": "stderr",
          "output_type": "stream",
          "text": [
            "/Users/sreetam/Library/Python/3.8/lib/python/site-packages/wwo_hist/__init__.py:69: FutureWarning: Argument `closed` is deprecated in favor of `inclusive`.\n",
            "  list_mon_begin = pd.date_range(start_date, end_date, freq='MS', closed='right')\n",
            "/Users/sreetam/Library/Python/3.8/lib/python/site-packages/wwo_hist/__init__.py:74: FutureWarning: Argument `closed` is deprecated in favor of `inclusive`.\n",
            "  list_mon_end = pd.date_range(start_date, end_date, freq='M', closed='left')\n"
          ]
        },
        {
          "name": "stdout",
          "output_type": "stream",
          "text": [
            "Time elapsed (hh:mm:ss.ms) 0:00:00.506796\n",
            "Currently retrieving data for Chemung: from 2009-07-01 to 2009-07-31\n",
            "Time elapsed (hh:mm:ss.ms) 0:00:01.213875\n",
            "Currently retrieving data for Chemung: from 2009-08-01 to 2009-08-17\n",
            "Time elapsed (hh:mm:ss.ms) 0:00:01.869940\n",
            "\n",
            "\n",
            "export Chemung completed!\n",
            "\n",
            "\n",
            "\n",
            "\n",
            "Retrieving weather data for Tioga\n",
            "\n",
            "\n",
            "Currently retrieving data for Tioga: from 2009-06-24 to 2009-06-30\n"
          ]
        },
        {
          "name": "stderr",
          "output_type": "stream",
          "text": [
            "/Users/sreetam/Library/Python/3.8/lib/python/site-packages/wwo_hist/__init__.py:69: FutureWarning: Argument `closed` is deprecated in favor of `inclusive`.\n",
            "  list_mon_begin = pd.date_range(start_date, end_date, freq='MS', closed='right')\n",
            "/Users/sreetam/Library/Python/3.8/lib/python/site-packages/wwo_hist/__init__.py:74: FutureWarning: Argument `closed` is deprecated in favor of `inclusive`.\n",
            "  list_mon_end = pd.date_range(start_date, end_date, freq='M', closed='left')\n"
          ]
        },
        {
          "name": "stdout",
          "output_type": "stream",
          "text": [
            "Time elapsed (hh:mm:ss.ms) 0:00:00.429887\n",
            "Currently retrieving data for Tioga: from 2009-07-01 to 2009-07-31\n",
            "Time elapsed (hh:mm:ss.ms) 0:00:01.276926\n",
            "Currently retrieving data for Tioga: from 2009-08-01 to 2009-08-17\n",
            "Time elapsed (hh:mm:ss.ms) 0:00:01.916174\n",
            "\n",
            "\n",
            "export Tioga completed!\n",
            "\n",
            "\n",
            "\n",
            "\n",
            "Retrieving weather data for Tompkins\n",
            "\n",
            "\n",
            "Currently retrieving data for Tompkins: from 2009-06-24 to 2009-06-30\n"
          ]
        },
        {
          "name": "stderr",
          "output_type": "stream",
          "text": [
            "/Users/sreetam/Library/Python/3.8/lib/python/site-packages/wwo_hist/__init__.py:69: FutureWarning: Argument `closed` is deprecated in favor of `inclusive`.\n",
            "  list_mon_begin = pd.date_range(start_date, end_date, freq='MS', closed='right')\n",
            "/Users/sreetam/Library/Python/3.8/lib/python/site-packages/wwo_hist/__init__.py:74: FutureWarning: Argument `closed` is deprecated in favor of `inclusive`.\n",
            "  list_mon_end = pd.date_range(start_date, end_date, freq='M', closed='left')\n"
          ]
        },
        {
          "name": "stdout",
          "output_type": "stream",
          "text": [
            "Time elapsed (hh:mm:ss.ms) 0:00:00.507418\n",
            "Currently retrieving data for Tompkins: from 2009-07-01 to 2009-07-31\n",
            "Time elapsed (hh:mm:ss.ms) 0:00:01.309967\n",
            "Currently retrieving data for Tompkins: from 2009-08-01 to 2009-08-17\n",
            "Time elapsed (hh:mm:ss.ms) 0:00:01.968765\n",
            "\n",
            "\n",
            "export Tompkins completed!\n",
            "\n",
            "\n",
            "\n",
            "\n",
            "Retrieving weather data for Seneca\n",
            "\n",
            "\n",
            "Currently retrieving data for Seneca: from 2009-06-24 to 2009-06-30\n"
          ]
        },
        {
          "name": "stderr",
          "output_type": "stream",
          "text": [
            "/Users/sreetam/Library/Python/3.8/lib/python/site-packages/wwo_hist/__init__.py:69: FutureWarning: Argument `closed` is deprecated in favor of `inclusive`.\n",
            "  list_mon_begin = pd.date_range(start_date, end_date, freq='MS', closed='right')\n",
            "/Users/sreetam/Library/Python/3.8/lib/python/site-packages/wwo_hist/__init__.py:74: FutureWarning: Argument `closed` is deprecated in favor of `inclusive`.\n",
            "  list_mon_end = pd.date_range(start_date, end_date, freq='M', closed='left')\n"
          ]
        },
        {
          "name": "stdout",
          "output_type": "stream",
          "text": [
            "Time elapsed (hh:mm:ss.ms) 0:00:00.468718\n",
            "Currently retrieving data for Seneca: from 2009-07-01 to 2009-07-31\n",
            "Time elapsed (hh:mm:ss.ms) 0:00:01.266344\n",
            "Currently retrieving data for Seneca: from 2009-08-01 to 2009-08-17\n",
            "Time elapsed (hh:mm:ss.ms) 0:00:01.908816\n",
            "\n",
            "\n",
            "export Seneca completed!\n",
            "\n",
            "\n",
            "\n",
            "\n",
            "Retrieving weather data for Onondaga\n",
            "\n",
            "\n",
            "Currently retrieving data for Onondaga: from 2009-06-24 to 2009-06-30\n"
          ]
        },
        {
          "name": "stderr",
          "output_type": "stream",
          "text": [
            "/Users/sreetam/Library/Python/3.8/lib/python/site-packages/wwo_hist/__init__.py:69: FutureWarning: Argument `closed` is deprecated in favor of `inclusive`.\n",
            "  list_mon_begin = pd.date_range(start_date, end_date, freq='MS', closed='right')\n",
            "/Users/sreetam/Library/Python/3.8/lib/python/site-packages/wwo_hist/__init__.py:74: FutureWarning: Argument `closed` is deprecated in favor of `inclusive`.\n",
            "  list_mon_end = pd.date_range(start_date, end_date, freq='M', closed='left')\n"
          ]
        },
        {
          "name": "stdout",
          "output_type": "stream",
          "text": [
            "Time elapsed (hh:mm:ss.ms) 0:00:00.425502\n",
            "Currently retrieving data for Onondaga: from 2009-07-01 to 2009-07-31\n",
            "Time elapsed (hh:mm:ss.ms) 0:00:01.196073\n",
            "Currently retrieving data for Onondaga: from 2009-08-01 to 2009-08-17\n",
            "Time elapsed (hh:mm:ss.ms) 0:00:01.831176\n",
            "\n",
            "\n",
            "export Onondaga completed!\n",
            "\n",
            "\n",
            "\n",
            "\n",
            "Retrieving weather data for Cortland\n",
            "\n",
            "\n",
            "Currently retrieving data for Cortland: from 2009-06-24 to 2009-06-30\n"
          ]
        },
        {
          "name": "stderr",
          "output_type": "stream",
          "text": [
            "/Users/sreetam/Library/Python/3.8/lib/python/site-packages/wwo_hist/__init__.py:69: FutureWarning: Argument `closed` is deprecated in favor of `inclusive`.\n",
            "  list_mon_begin = pd.date_range(start_date, end_date, freq='MS', closed='right')\n",
            "/Users/sreetam/Library/Python/3.8/lib/python/site-packages/wwo_hist/__init__.py:74: FutureWarning: Argument `closed` is deprecated in favor of `inclusive`.\n",
            "  list_mon_end = pd.date_range(start_date, end_date, freq='M', closed='left')\n"
          ]
        },
        {
          "name": "stdout",
          "output_type": "stream",
          "text": [
            "Time elapsed (hh:mm:ss.ms) 0:00:00.519351\n",
            "Currently retrieving data for Cortland: from 2009-07-01 to 2009-07-31\n",
            "Time elapsed (hh:mm:ss.ms) 0:00:01.308295\n",
            "Currently retrieving data for Cortland: from 2009-08-01 to 2009-08-17\n",
            "Time elapsed (hh:mm:ss.ms) 0:00:01.946293\n",
            "\n",
            "\n",
            "export Cortland completed!\n",
            "\n",
            "\n",
            "\n",
            "\n",
            "Retrieving weather data for Jefferson\n",
            "\n",
            "\n",
            "Currently retrieving data for Jefferson: from 2009-06-24 to 2009-06-30\n"
          ]
        },
        {
          "name": "stderr",
          "output_type": "stream",
          "text": [
            "/Users/sreetam/Library/Python/3.8/lib/python/site-packages/wwo_hist/__init__.py:69: FutureWarning: Argument `closed` is deprecated in favor of `inclusive`.\n",
            "  list_mon_begin = pd.date_range(start_date, end_date, freq='MS', closed='right')\n",
            "/Users/sreetam/Library/Python/3.8/lib/python/site-packages/wwo_hist/__init__.py:74: FutureWarning: Argument `closed` is deprecated in favor of `inclusive`.\n",
            "  list_mon_end = pd.date_range(start_date, end_date, freq='M', closed='left')\n"
          ]
        },
        {
          "name": "stdout",
          "output_type": "stream",
          "text": [
            "Time elapsed (hh:mm:ss.ms) 0:00:00.502104\n",
            "Currently retrieving data for Jefferson: from 2009-07-01 to 2009-07-31\n",
            "Time elapsed (hh:mm:ss.ms) 0:00:01.262190\n",
            "Currently retrieving data for Jefferson: from 2009-08-01 to 2009-08-17\n",
            "Time elapsed (hh:mm:ss.ms) 0:00:01.938823\n",
            "\n",
            "\n",
            "export Jefferson completed!\n",
            "\n",
            "\n",
            "\n",
            "\n",
            "Retrieving weather data for Oswego\n",
            "\n",
            "\n",
            "Currently retrieving data for Oswego: from 2009-06-24 to 2009-06-30\n"
          ]
        },
        {
          "name": "stderr",
          "output_type": "stream",
          "text": [
            "/Users/sreetam/Library/Python/3.8/lib/python/site-packages/wwo_hist/__init__.py:69: FutureWarning: Argument `closed` is deprecated in favor of `inclusive`.\n",
            "  list_mon_begin = pd.date_range(start_date, end_date, freq='MS', closed='right')\n",
            "/Users/sreetam/Library/Python/3.8/lib/python/site-packages/wwo_hist/__init__.py:74: FutureWarning: Argument `closed` is deprecated in favor of `inclusive`.\n",
            "  list_mon_end = pd.date_range(start_date, end_date, freq='M', closed='left')\n"
          ]
        },
        {
          "name": "stdout",
          "output_type": "stream",
          "text": [
            "Time elapsed (hh:mm:ss.ms) 0:00:00.405134\n",
            "Currently retrieving data for Oswego: from 2009-07-01 to 2009-07-31\n",
            "Time elapsed (hh:mm:ss.ms) 0:00:01.181035\n",
            "Currently retrieving data for Oswego: from 2009-08-01 to 2009-08-17\n",
            "Time elapsed (hh:mm:ss.ms) 0:00:01.735490\n",
            "\n",
            "\n",
            "export Oswego completed!\n",
            "\n",
            "\n",
            "\n",
            "\n",
            "Retrieving weather data for Oneida\n",
            "\n",
            "\n",
            "Currently retrieving data for Oneida: from 2009-06-24 to 2009-06-30\n"
          ]
        },
        {
          "name": "stderr",
          "output_type": "stream",
          "text": [
            "/Users/sreetam/Library/Python/3.8/lib/python/site-packages/wwo_hist/__init__.py:69: FutureWarning: Argument `closed` is deprecated in favor of `inclusive`.\n",
            "  list_mon_begin = pd.date_range(start_date, end_date, freq='MS', closed='right')\n",
            "/Users/sreetam/Library/Python/3.8/lib/python/site-packages/wwo_hist/__init__.py:74: FutureWarning: Argument `closed` is deprecated in favor of `inclusive`.\n",
            "  list_mon_end = pd.date_range(start_date, end_date, freq='M', closed='left')\n"
          ]
        },
        {
          "name": "stdout",
          "output_type": "stream",
          "text": [
            "Time elapsed (hh:mm:ss.ms) 0:00:00.436272\n",
            "Currently retrieving data for Oneida: from 2009-07-01 to 2009-07-31\n",
            "Time elapsed (hh:mm:ss.ms) 0:00:01.229656\n",
            "Currently retrieving data for Oneida: from 2009-08-01 to 2009-08-17\n",
            "Time elapsed (hh:mm:ss.ms) 0:00:01.864150\n",
            "\n",
            "\n",
            "export Oneida completed!\n",
            "\n",
            "\n",
            "\n",
            "\n",
            "Retrieving weather data for Madison\n",
            "\n",
            "\n",
            "Currently retrieving data for Madison: from 2009-06-24 to 2009-06-30\n"
          ]
        },
        {
          "name": "stderr",
          "output_type": "stream",
          "text": [
            "/Users/sreetam/Library/Python/3.8/lib/python/site-packages/wwo_hist/__init__.py:69: FutureWarning: Argument `closed` is deprecated in favor of `inclusive`.\n",
            "  list_mon_begin = pd.date_range(start_date, end_date, freq='MS', closed='right')\n",
            "/Users/sreetam/Library/Python/3.8/lib/python/site-packages/wwo_hist/__init__.py:74: FutureWarning: Argument `closed` is deprecated in favor of `inclusive`.\n",
            "  list_mon_end = pd.date_range(start_date, end_date, freq='M', closed='left')\n"
          ]
        },
        {
          "name": "stdout",
          "output_type": "stream",
          "text": [
            "Time elapsed (hh:mm:ss.ms) 0:00:00.479623\n",
            "Currently retrieving data for Madison: from 2009-07-01 to 2009-07-31\n",
            "Time elapsed (hh:mm:ss.ms) 0:00:01.247762\n",
            "Currently retrieving data for Madison: from 2009-08-01 to 2009-08-17\n",
            "Time elapsed (hh:mm:ss.ms) 0:00:01.937236\n",
            "\n",
            "\n",
            "export Madison completed!\n",
            "\n",
            "\n",
            "\n",
            "\n",
            "Retrieving weather data for Chenango\n",
            "\n",
            "\n",
            "Currently retrieving data for Chenango: from 2009-06-24 to 2009-06-30\n"
          ]
        },
        {
          "name": "stderr",
          "output_type": "stream",
          "text": [
            "/Users/sreetam/Library/Python/3.8/lib/python/site-packages/wwo_hist/__init__.py:69: FutureWarning: Argument `closed` is deprecated in favor of `inclusive`.\n",
            "  list_mon_begin = pd.date_range(start_date, end_date, freq='MS', closed='right')\n",
            "/Users/sreetam/Library/Python/3.8/lib/python/site-packages/wwo_hist/__init__.py:74: FutureWarning: Argument `closed` is deprecated in favor of `inclusive`.\n",
            "  list_mon_end = pd.date_range(start_date, end_date, freq='M', closed='left')\n"
          ]
        },
        {
          "name": "stdout",
          "output_type": "stream",
          "text": [
            "Time elapsed (hh:mm:ss.ms) 0:00:00.398685\n",
            "Currently retrieving data for Chenango: from 2009-07-01 to 2009-07-31\n",
            "Time elapsed (hh:mm:ss.ms) 0:00:01.252425\n",
            "Currently retrieving data for Chenango: from 2009-08-01 to 2009-08-17\n",
            "Time elapsed (hh:mm:ss.ms) 0:00:01.846230\n",
            "\n",
            "\n",
            "export Chenango completed!\n",
            "\n",
            "\n",
            "\n",
            "\n",
            "Retrieving weather data for Broome\n",
            "\n",
            "\n",
            "Currently retrieving data for Broome: from 2009-06-24 to 2009-06-30\n"
          ]
        },
        {
          "name": "stderr",
          "output_type": "stream",
          "text": [
            "/Users/sreetam/Library/Python/3.8/lib/python/site-packages/wwo_hist/__init__.py:69: FutureWarning: Argument `closed` is deprecated in favor of `inclusive`.\n",
            "  list_mon_begin = pd.date_range(start_date, end_date, freq='MS', closed='right')\n",
            "/Users/sreetam/Library/Python/3.8/lib/python/site-packages/wwo_hist/__init__.py:74: FutureWarning: Argument `closed` is deprecated in favor of `inclusive`.\n",
            "  list_mon_end = pd.date_range(start_date, end_date, freq='M', closed='left')\n"
          ]
        },
        {
          "name": "stdout",
          "output_type": "stream",
          "text": [
            "Time elapsed (hh:mm:ss.ms) 0:00:00.511491\n",
            "Currently retrieving data for Broome: from 2009-07-01 to 2009-07-31\n",
            "Time elapsed (hh:mm:ss.ms) 0:00:01.332242\n",
            "Currently retrieving data for Broome: from 2009-08-01 to 2009-08-17\n",
            "Time elapsed (hh:mm:ss.ms) 0:00:01.948637\n",
            "\n",
            "\n",
            "export Broome completed!\n",
            "\n",
            "\n",
            "\n",
            "\n",
            "Retrieving weather data for Otsego\n",
            "\n",
            "\n",
            "Currently retrieving data for Otsego: from 2009-06-24 to 2009-06-30\n"
          ]
        },
        {
          "name": "stderr",
          "output_type": "stream",
          "text": [
            "/Users/sreetam/Library/Python/3.8/lib/python/site-packages/wwo_hist/__init__.py:69: FutureWarning: Argument `closed` is deprecated in favor of `inclusive`.\n",
            "  list_mon_begin = pd.date_range(start_date, end_date, freq='MS', closed='right')\n",
            "/Users/sreetam/Library/Python/3.8/lib/python/site-packages/wwo_hist/__init__.py:74: FutureWarning: Argument `closed` is deprecated in favor of `inclusive`.\n",
            "  list_mon_end = pd.date_range(start_date, end_date, freq='M', closed='left')\n"
          ]
        },
        {
          "name": "stdout",
          "output_type": "stream",
          "text": [
            "Time elapsed (hh:mm:ss.ms) 0:00:00.508873\n",
            "Currently retrieving data for Otsego: from 2009-07-01 to 2009-07-31\n",
            "Time elapsed (hh:mm:ss.ms) 0:00:01.377320\n",
            "Currently retrieving data for Otsego: from 2009-08-01 to 2009-08-17\n",
            "Time elapsed (hh:mm:ss.ms) 0:00:02.056000\n",
            "\n",
            "\n",
            "export Otsego completed!\n",
            "\n",
            "\n",
            "\n",
            "\n",
            "Retrieving weather data for lewis\n",
            "\n",
            "\n",
            "Currently retrieving data for lewis: from 2009-06-24 to 2009-06-30\n"
          ]
        },
        {
          "name": "stderr",
          "output_type": "stream",
          "text": [
            "/Users/sreetam/Library/Python/3.8/lib/python/site-packages/wwo_hist/__init__.py:69: FutureWarning: Argument `closed` is deprecated in favor of `inclusive`.\n",
            "  list_mon_begin = pd.date_range(start_date, end_date, freq='MS', closed='right')\n",
            "/Users/sreetam/Library/Python/3.8/lib/python/site-packages/wwo_hist/__init__.py:74: FutureWarning: Argument `closed` is deprecated in favor of `inclusive`.\n",
            "  list_mon_end = pd.date_range(start_date, end_date, freq='M', closed='left')\n"
          ]
        },
        {
          "name": "stdout",
          "output_type": "stream",
          "text": [
            "Time elapsed (hh:mm:ss.ms) 0:00:00.499623\n",
            "Currently retrieving data for lewis: from 2009-07-01 to 2009-07-31\n",
            "Time elapsed (hh:mm:ss.ms) 0:00:01.293673\n",
            "Currently retrieving data for lewis: from 2009-08-01 to 2009-08-17\n",
            "Time elapsed (hh:mm:ss.ms) 0:00:01.982263\n",
            "\n",
            "\n",
            "export lewis completed!\n",
            "\n",
            "\n",
            "\n",
            "\n",
            "Retrieving weather data for Herkimer\n",
            "\n",
            "\n",
            "Currently retrieving data for Herkimer: from 2009-06-24 to 2009-06-30\n"
          ]
        },
        {
          "name": "stderr",
          "output_type": "stream",
          "text": [
            "/Users/sreetam/Library/Python/3.8/lib/python/site-packages/wwo_hist/__init__.py:69: FutureWarning: Argument `closed` is deprecated in favor of `inclusive`.\n",
            "  list_mon_begin = pd.date_range(start_date, end_date, freq='MS', closed='right')\n",
            "/Users/sreetam/Library/Python/3.8/lib/python/site-packages/wwo_hist/__init__.py:74: FutureWarning: Argument `closed` is deprecated in favor of `inclusive`.\n",
            "  list_mon_end = pd.date_range(start_date, end_date, freq='M', closed='left')\n"
          ]
        },
        {
          "name": "stdout",
          "output_type": "stream",
          "text": [
            "Time elapsed (hh:mm:ss.ms) 0:00:00.463960\n",
            "Currently retrieving data for Herkimer: from 2009-07-01 to 2009-07-31\n",
            "Time elapsed (hh:mm:ss.ms) 0:00:01.284805\n",
            "Currently retrieving data for Herkimer: from 2009-08-01 to 2009-08-17\n",
            "Time elapsed (hh:mm:ss.ms) 0:00:01.994480\n",
            "\n",
            "\n",
            "export Herkimer completed!\n",
            "\n",
            "\n",
            "\n",
            "\n",
            "Retrieving weather data for Hamilton\n",
            "\n",
            "\n",
            "Currently retrieving data for Hamilton: from 2009-06-24 to 2009-06-30\n"
          ]
        },
        {
          "name": "stderr",
          "output_type": "stream",
          "text": [
            "/Users/sreetam/Library/Python/3.8/lib/python/site-packages/wwo_hist/__init__.py:69: FutureWarning: Argument `closed` is deprecated in favor of `inclusive`.\n",
            "  list_mon_begin = pd.date_range(start_date, end_date, freq='MS', closed='right')\n",
            "/Users/sreetam/Library/Python/3.8/lib/python/site-packages/wwo_hist/__init__.py:74: FutureWarning: Argument `closed` is deprecated in favor of `inclusive`.\n",
            "  list_mon_end = pd.date_range(start_date, end_date, freq='M', closed='left')\n"
          ]
        },
        {
          "name": "stdout",
          "output_type": "stream",
          "text": [
            "Time elapsed (hh:mm:ss.ms) 0:00:00.422891\n",
            "Currently retrieving data for Hamilton: from 2009-07-01 to 2009-07-31\n",
            "Time elapsed (hh:mm:ss.ms) 0:00:01.181915\n",
            "Currently retrieving data for Hamilton: from 2009-08-01 to 2009-08-17\n",
            "Time elapsed (hh:mm:ss.ms) 0:00:01.865939\n",
            "\n",
            "\n",
            "export Hamilton completed!\n",
            "\n",
            "\n",
            "\n",
            "\n",
            "Retrieving weather data for Franklin\n",
            "\n",
            "\n",
            "Currently retrieving data for Franklin: from 2009-06-24 to 2009-06-30\n"
          ]
        },
        {
          "name": "stderr",
          "output_type": "stream",
          "text": [
            "/Users/sreetam/Library/Python/3.8/lib/python/site-packages/wwo_hist/__init__.py:69: FutureWarning: Argument `closed` is deprecated in favor of `inclusive`.\n",
            "  list_mon_begin = pd.date_range(start_date, end_date, freq='MS', closed='right')\n",
            "/Users/sreetam/Library/Python/3.8/lib/python/site-packages/wwo_hist/__init__.py:74: FutureWarning: Argument `closed` is deprecated in favor of `inclusive`.\n",
            "  list_mon_end = pd.date_range(start_date, end_date, freq='M', closed='left')\n"
          ]
        },
        {
          "name": "stdout",
          "output_type": "stream",
          "text": [
            "Time elapsed (hh:mm:ss.ms) 0:00:00.490289\n",
            "Currently retrieving data for Franklin: from 2009-07-01 to 2009-07-31\n",
            "Time elapsed (hh:mm:ss.ms) 0:00:01.281722\n",
            "Currently retrieving data for Franklin: from 2009-08-01 to 2009-08-17\n",
            "Time elapsed (hh:mm:ss.ms) 0:00:01.847434\n",
            "\n",
            "\n",
            "export Franklin completed!\n",
            "\n",
            "\n",
            "\n",
            "\n",
            "Retrieving weather data for Clinton\n",
            "\n",
            "\n",
            "Currently retrieving data for Clinton: from 2009-06-24 to 2009-06-30\n"
          ]
        },
        {
          "name": "stderr",
          "output_type": "stream",
          "text": [
            "/Users/sreetam/Library/Python/3.8/lib/python/site-packages/wwo_hist/__init__.py:69: FutureWarning: Argument `closed` is deprecated in favor of `inclusive`.\n",
            "  list_mon_begin = pd.date_range(start_date, end_date, freq='MS', closed='right')\n",
            "/Users/sreetam/Library/Python/3.8/lib/python/site-packages/wwo_hist/__init__.py:74: FutureWarning: Argument `closed` is deprecated in favor of `inclusive`.\n",
            "  list_mon_end = pd.date_range(start_date, end_date, freq='M', closed='left')\n"
          ]
        },
        {
          "name": "stdout",
          "output_type": "stream",
          "text": [
            "Time elapsed (hh:mm:ss.ms) 0:00:00.487747\n",
            "Currently retrieving data for Clinton: from 2009-07-01 to 2009-07-31\n",
            "Time elapsed (hh:mm:ss.ms) 0:00:01.287755\n",
            "Currently retrieving data for Clinton: from 2009-08-01 to 2009-08-17\n",
            "Time elapsed (hh:mm:ss.ms) 0:00:01.956646\n",
            "\n",
            "\n",
            "export Clinton completed!\n",
            "\n",
            "\n",
            "\n",
            "\n",
            "Retrieving weather data for Essex\n",
            "\n",
            "\n",
            "Currently retrieving data for Essex: from 2009-06-24 to 2009-06-30\n"
          ]
        },
        {
          "name": "stderr",
          "output_type": "stream",
          "text": [
            "/Users/sreetam/Library/Python/3.8/lib/python/site-packages/wwo_hist/__init__.py:69: FutureWarning: Argument `closed` is deprecated in favor of `inclusive`.\n",
            "  list_mon_begin = pd.date_range(start_date, end_date, freq='MS', closed='right')\n",
            "/Users/sreetam/Library/Python/3.8/lib/python/site-packages/wwo_hist/__init__.py:74: FutureWarning: Argument `closed` is deprecated in favor of `inclusive`.\n",
            "  list_mon_end = pd.date_range(start_date, end_date, freq='M', closed='left')\n"
          ]
        },
        {
          "name": "stdout",
          "output_type": "stream",
          "text": [
            "Time elapsed (hh:mm:ss.ms) 0:00:00.550417\n",
            "Currently retrieving data for Essex: from 2009-07-01 to 2009-07-31\n",
            "Time elapsed (hh:mm:ss.ms) 0:00:01.654465\n",
            "Currently retrieving data for Essex: from 2009-08-01 to 2009-08-17\n",
            "Time elapsed (hh:mm:ss.ms) 0:00:02.215164\n",
            "\n",
            "\n",
            "export Essex completed!\n",
            "\n",
            "\n",
            "\n",
            "\n",
            "Retrieving weather data for Warren\n",
            "\n",
            "\n",
            "Currently retrieving data for Warren: from 2009-06-24 to 2009-06-30\n"
          ]
        },
        {
          "name": "stderr",
          "output_type": "stream",
          "text": [
            "/Users/sreetam/Library/Python/3.8/lib/python/site-packages/wwo_hist/__init__.py:69: FutureWarning: Argument `closed` is deprecated in favor of `inclusive`.\n",
            "  list_mon_begin = pd.date_range(start_date, end_date, freq='MS', closed='right')\n",
            "/Users/sreetam/Library/Python/3.8/lib/python/site-packages/wwo_hist/__init__.py:74: FutureWarning: Argument `closed` is deprecated in favor of `inclusive`.\n",
            "  list_mon_end = pd.date_range(start_date, end_date, freq='M', closed='left')\n"
          ]
        },
        {
          "name": "stdout",
          "output_type": "stream",
          "text": [
            "Time elapsed (hh:mm:ss.ms) 0:00:00.508221\n",
            "Currently retrieving data for Warren: from 2009-07-01 to 2009-07-31\n",
            "Time elapsed (hh:mm:ss.ms) 0:00:01.326024\n",
            "Currently retrieving data for Warren: from 2009-08-01 to 2009-08-17\n",
            "Time elapsed (hh:mm:ss.ms) 0:00:01.986233\n",
            "\n",
            "\n",
            "export Warren completed!\n",
            "\n",
            "\n",
            "\n",
            "\n",
            "Retrieving weather data for Washington\n",
            "\n",
            "\n",
            "Currently retrieving data for Washington: from 2009-06-24 to 2009-06-30\n"
          ]
        },
        {
          "name": "stderr",
          "output_type": "stream",
          "text": [
            "/Users/sreetam/Library/Python/3.8/lib/python/site-packages/wwo_hist/__init__.py:69: FutureWarning: Argument `closed` is deprecated in favor of `inclusive`.\n",
            "  list_mon_begin = pd.date_range(start_date, end_date, freq='MS', closed='right')\n",
            "/Users/sreetam/Library/Python/3.8/lib/python/site-packages/wwo_hist/__init__.py:74: FutureWarning: Argument `closed` is deprecated in favor of `inclusive`.\n",
            "  list_mon_end = pd.date_range(start_date, end_date, freq='M', closed='left')\n"
          ]
        },
        {
          "name": "stdout",
          "output_type": "stream",
          "text": [
            "Time elapsed (hh:mm:ss.ms) 0:00:00.469791\n",
            "Currently retrieving data for Washington: from 2009-07-01 to 2009-07-31\n",
            "Time elapsed (hh:mm:ss.ms) 0:00:01.268988\n",
            "Currently retrieving data for Washington: from 2009-08-01 to 2009-08-17\n",
            "Time elapsed (hh:mm:ss.ms) 0:00:01.957626\n",
            "\n",
            "\n",
            "export Washington completed!\n",
            "\n",
            "\n",
            "\n",
            "\n",
            "Retrieving weather data for Fulton\n",
            "\n",
            "\n",
            "Currently retrieving data for Fulton: from 2009-06-24 to 2009-06-30\n"
          ]
        },
        {
          "name": "stderr",
          "output_type": "stream",
          "text": [
            "/Users/sreetam/Library/Python/3.8/lib/python/site-packages/wwo_hist/__init__.py:69: FutureWarning: Argument `closed` is deprecated in favor of `inclusive`.\n",
            "  list_mon_begin = pd.date_range(start_date, end_date, freq='MS', closed='right')\n",
            "/Users/sreetam/Library/Python/3.8/lib/python/site-packages/wwo_hist/__init__.py:74: FutureWarning: Argument `closed` is deprecated in favor of `inclusive`.\n",
            "  list_mon_end = pd.date_range(start_date, end_date, freq='M', closed='left')\n"
          ]
        },
        {
          "name": "stdout",
          "output_type": "stream",
          "text": [
            "Time elapsed (hh:mm:ss.ms) 0:00:00.456971\n",
            "Currently retrieving data for Fulton: from 2009-07-01 to 2009-07-31\n",
            "Time elapsed (hh:mm:ss.ms) 0:00:01.281834\n",
            "Currently retrieving data for Fulton: from 2009-08-01 to 2009-08-17\n",
            "Time elapsed (hh:mm:ss.ms) 0:00:01.991692\n",
            "\n",
            "\n",
            "export Fulton completed!\n",
            "\n",
            "\n",
            "\n",
            "\n",
            "Retrieving weather data for Saratoga\n",
            "\n",
            "\n",
            "Currently retrieving data for Saratoga: from 2009-06-24 to 2009-06-30\n"
          ]
        },
        {
          "name": "stderr",
          "output_type": "stream",
          "text": [
            "/Users/sreetam/Library/Python/3.8/lib/python/site-packages/wwo_hist/__init__.py:69: FutureWarning: Argument `closed` is deprecated in favor of `inclusive`.\n",
            "  list_mon_begin = pd.date_range(start_date, end_date, freq='MS', closed='right')\n",
            "/Users/sreetam/Library/Python/3.8/lib/python/site-packages/wwo_hist/__init__.py:74: FutureWarning: Argument `closed` is deprecated in favor of `inclusive`.\n",
            "  list_mon_end = pd.date_range(start_date, end_date, freq='M', closed='left')\n"
          ]
        },
        {
          "name": "stdout",
          "output_type": "stream",
          "text": [
            "Time elapsed (hh:mm:ss.ms) 0:00:00.506577\n",
            "Currently retrieving data for Saratoga: from 2009-07-01 to 2009-07-31\n",
            "Time elapsed (hh:mm:ss.ms) 0:00:01.356954\n",
            "Currently retrieving data for Saratoga: from 2009-08-01 to 2009-08-17\n",
            "Time elapsed (hh:mm:ss.ms) 0:00:02.039765\n",
            "\n",
            "\n",
            "export Saratoga completed!\n",
            "\n",
            "\n",
            "\n",
            "\n",
            "Retrieving weather data for Schenectady\n",
            "\n",
            "\n",
            "Currently retrieving data for Schenectady: from 2009-06-24 to 2009-06-30\n"
          ]
        },
        {
          "name": "stderr",
          "output_type": "stream",
          "text": [
            "/Users/sreetam/Library/Python/3.8/lib/python/site-packages/wwo_hist/__init__.py:69: FutureWarning: Argument `closed` is deprecated in favor of `inclusive`.\n",
            "  list_mon_begin = pd.date_range(start_date, end_date, freq='MS', closed='right')\n",
            "/Users/sreetam/Library/Python/3.8/lib/python/site-packages/wwo_hist/__init__.py:74: FutureWarning: Argument `closed` is deprecated in favor of `inclusive`.\n",
            "  list_mon_end = pd.date_range(start_date, end_date, freq='M', closed='left')\n"
          ]
        },
        {
          "name": "stdout",
          "output_type": "stream",
          "text": [
            "Time elapsed (hh:mm:ss.ms) 0:00:00.393353\n",
            "Currently retrieving data for Schenectady: from 2009-07-01 to 2009-07-31\n",
            "Time elapsed (hh:mm:ss.ms) 0:00:01.228944\n",
            "Currently retrieving data for Schenectady: from 2009-08-01 to 2009-08-17\n",
            "Time elapsed (hh:mm:ss.ms) 0:00:01.843344\n",
            "\n",
            "\n",
            "export Schenectady completed!\n",
            "\n",
            "\n",
            "\n",
            "\n",
            "Retrieving weather data for Montgomery\n",
            "\n",
            "\n",
            "Currently retrieving data for Montgomery: from 2009-06-24 to 2009-06-30\n"
          ]
        },
        {
          "name": "stderr",
          "output_type": "stream",
          "text": [
            "/Users/sreetam/Library/Python/3.8/lib/python/site-packages/wwo_hist/__init__.py:69: FutureWarning: Argument `closed` is deprecated in favor of `inclusive`.\n",
            "  list_mon_begin = pd.date_range(start_date, end_date, freq='MS', closed='right')\n",
            "/Users/sreetam/Library/Python/3.8/lib/python/site-packages/wwo_hist/__init__.py:74: FutureWarning: Argument `closed` is deprecated in favor of `inclusive`.\n",
            "  list_mon_end = pd.date_range(start_date, end_date, freq='M', closed='left')\n"
          ]
        },
        {
          "name": "stdout",
          "output_type": "stream",
          "text": [
            "Time elapsed (hh:mm:ss.ms) 0:00:00.511384\n",
            "Currently retrieving data for Montgomery: from 2009-07-01 to 2009-07-31\n",
            "Time elapsed (hh:mm:ss.ms) 0:00:01.345330\n",
            "Currently retrieving data for Montgomery: from 2009-08-01 to 2009-08-17\n",
            "Time elapsed (hh:mm:ss.ms) 0:00:02.030371\n",
            "\n",
            "\n",
            "export Montgomery completed!\n",
            "\n",
            "\n",
            "\n",
            "\n",
            "Retrieving weather data for Schoharie\n",
            "\n",
            "\n",
            "Currently retrieving data for Schoharie: from 2009-06-24 to 2009-06-30\n"
          ]
        },
        {
          "name": "stderr",
          "output_type": "stream",
          "text": [
            "/Users/sreetam/Library/Python/3.8/lib/python/site-packages/wwo_hist/__init__.py:69: FutureWarning: Argument `closed` is deprecated in favor of `inclusive`.\n",
            "  list_mon_begin = pd.date_range(start_date, end_date, freq='MS', closed='right')\n",
            "/Users/sreetam/Library/Python/3.8/lib/python/site-packages/wwo_hist/__init__.py:74: FutureWarning: Argument `closed` is deprecated in favor of `inclusive`.\n",
            "  list_mon_end = pd.date_range(start_date, end_date, freq='M', closed='left')\n"
          ]
        },
        {
          "name": "stdout",
          "output_type": "stream",
          "text": [
            "Time elapsed (hh:mm:ss.ms) 0:00:00.532011\n",
            "Currently retrieving data for Schoharie: from 2009-07-01 to 2009-07-31\n",
            "Time elapsed (hh:mm:ss.ms) 0:00:01.361827\n",
            "Currently retrieving data for Schoharie: from 2009-08-01 to 2009-08-17\n",
            "Time elapsed (hh:mm:ss.ms) 0:00:02.007005\n",
            "\n",
            "\n",
            "export Schoharie completed!\n",
            "\n",
            "\n",
            "\n",
            "\n",
            "Retrieving weather data for Rensselaer\n",
            "\n",
            "\n",
            "Currently retrieving data for Rensselaer: from 2009-06-24 to 2009-06-30\n"
          ]
        },
        {
          "name": "stderr",
          "output_type": "stream",
          "text": [
            "/Users/sreetam/Library/Python/3.8/lib/python/site-packages/wwo_hist/__init__.py:69: FutureWarning: Argument `closed` is deprecated in favor of `inclusive`.\n",
            "  list_mon_begin = pd.date_range(start_date, end_date, freq='MS', closed='right')\n",
            "/Users/sreetam/Library/Python/3.8/lib/python/site-packages/wwo_hist/__init__.py:74: FutureWarning: Argument `closed` is deprecated in favor of `inclusive`.\n",
            "  list_mon_end = pd.date_range(start_date, end_date, freq='M', closed='left')\n"
          ]
        },
        {
          "name": "stdout",
          "output_type": "stream",
          "text": [
            "Time elapsed (hh:mm:ss.ms) 0:00:00.471466\n",
            "Currently retrieving data for Rensselaer: from 2009-07-01 to 2009-07-31\n",
            "Time elapsed (hh:mm:ss.ms) 0:00:01.349697\n",
            "Currently retrieving data for Rensselaer: from 2009-08-01 to 2009-08-17\n",
            "Time elapsed (hh:mm:ss.ms) 0:00:02.019115\n",
            "\n",
            "\n",
            "export Rensselaer completed!\n",
            "\n",
            "\n",
            "\n",
            "\n",
            "Retrieving weather data for Albany\n",
            "\n",
            "\n",
            "Currently retrieving data for Albany: from 2009-06-24 to 2009-06-30\n"
          ]
        },
        {
          "name": "stderr",
          "output_type": "stream",
          "text": [
            "/Users/sreetam/Library/Python/3.8/lib/python/site-packages/wwo_hist/__init__.py:69: FutureWarning: Argument `closed` is deprecated in favor of `inclusive`.\n",
            "  list_mon_begin = pd.date_range(start_date, end_date, freq='MS', closed='right')\n",
            "/Users/sreetam/Library/Python/3.8/lib/python/site-packages/wwo_hist/__init__.py:74: FutureWarning: Argument `closed` is deprecated in favor of `inclusive`.\n",
            "  list_mon_end = pd.date_range(start_date, end_date, freq='M', closed='left')\n"
          ]
        },
        {
          "name": "stdout",
          "output_type": "stream",
          "text": [
            "Time elapsed (hh:mm:ss.ms) 0:00:00.498233\n",
            "Currently retrieving data for Albany: from 2009-07-01 to 2009-07-31\n",
            "Time elapsed (hh:mm:ss.ms) 0:00:01.272887\n",
            "Currently retrieving data for Albany: from 2009-08-01 to 2009-08-17\n",
            "Time elapsed (hh:mm:ss.ms) 0:00:01.928840\n",
            "\n",
            "\n",
            "export Albany completed!\n",
            "\n",
            "\n",
            "\n",
            "\n",
            "Retrieving weather data for Delaware\n",
            "\n",
            "\n",
            "Currently retrieving data for Delaware: from 2009-06-24 to 2009-06-30\n"
          ]
        },
        {
          "name": "stderr",
          "output_type": "stream",
          "text": [
            "/Users/sreetam/Library/Python/3.8/lib/python/site-packages/wwo_hist/__init__.py:69: FutureWarning: Argument `closed` is deprecated in favor of `inclusive`.\n",
            "  list_mon_begin = pd.date_range(start_date, end_date, freq='MS', closed='right')\n",
            "/Users/sreetam/Library/Python/3.8/lib/python/site-packages/wwo_hist/__init__.py:74: FutureWarning: Argument `closed` is deprecated in favor of `inclusive`.\n",
            "  list_mon_end = pd.date_range(start_date, end_date, freq='M', closed='left')\n"
          ]
        },
        {
          "name": "stdout",
          "output_type": "stream",
          "text": [
            "Time elapsed (hh:mm:ss.ms) 0:00:00.514934\n",
            "Currently retrieving data for Delaware: from 2009-07-01 to 2009-07-31\n",
            "Time elapsed (hh:mm:ss.ms) 0:00:01.320963\n",
            "Currently retrieving data for Delaware: from 2009-08-01 to 2009-08-17\n",
            "Time elapsed (hh:mm:ss.ms) 0:00:01.943792\n",
            "\n",
            "\n",
            "export Delaware completed!\n",
            "\n",
            "\n",
            "\n",
            "\n",
            "Retrieving weather data for Greene\n",
            "\n",
            "\n",
            "Currently retrieving data for Greene: from 2009-06-24 to 2009-06-30\n"
          ]
        },
        {
          "name": "stderr",
          "output_type": "stream",
          "text": [
            "/Users/sreetam/Library/Python/3.8/lib/python/site-packages/wwo_hist/__init__.py:69: FutureWarning: Argument `closed` is deprecated in favor of `inclusive`.\n",
            "  list_mon_begin = pd.date_range(start_date, end_date, freq='MS', closed='right')\n",
            "/Users/sreetam/Library/Python/3.8/lib/python/site-packages/wwo_hist/__init__.py:74: FutureWarning: Argument `closed` is deprecated in favor of `inclusive`.\n",
            "  list_mon_end = pd.date_range(start_date, end_date, freq='M', closed='left')\n"
          ]
        },
        {
          "name": "stdout",
          "output_type": "stream",
          "text": [
            "Time elapsed (hh:mm:ss.ms) 0:00:00.513678\n",
            "Currently retrieving data for Greene: from 2009-07-01 to 2009-07-31\n",
            "Time elapsed (hh:mm:ss.ms) 0:00:01.306199\n",
            "Currently retrieving data for Greene: from 2009-08-01 to 2009-08-17\n",
            "Time elapsed (hh:mm:ss.ms) 0:00:01.936472\n",
            "\n",
            "\n",
            "export Greene completed!\n",
            "\n",
            "\n",
            "\n",
            "\n",
            "Retrieving weather data for Ulster\n",
            "\n",
            "\n",
            "Currently retrieving data for Ulster: from 2009-06-24 to 2009-06-30\n"
          ]
        },
        {
          "name": "stderr",
          "output_type": "stream",
          "text": [
            "/Users/sreetam/Library/Python/3.8/lib/python/site-packages/wwo_hist/__init__.py:69: FutureWarning: Argument `closed` is deprecated in favor of `inclusive`.\n",
            "  list_mon_begin = pd.date_range(start_date, end_date, freq='MS', closed='right')\n",
            "/Users/sreetam/Library/Python/3.8/lib/python/site-packages/wwo_hist/__init__.py:74: FutureWarning: Argument `closed` is deprecated in favor of `inclusive`.\n",
            "  list_mon_end = pd.date_range(start_date, end_date, freq='M', closed='left')\n"
          ]
        },
        {
          "name": "stdout",
          "output_type": "stream",
          "text": [
            "Time elapsed (hh:mm:ss.ms) 0:00:00.521484\n",
            "Currently retrieving data for Ulster: from 2009-07-01 to 2009-07-31\n",
            "Time elapsed (hh:mm:ss.ms) 0:00:01.348660\n",
            "Currently retrieving data for Ulster: from 2009-08-01 to 2009-08-17\n",
            "Time elapsed (hh:mm:ss.ms) 0:00:01.933215\n",
            "\n",
            "\n",
            "export Ulster completed!\n",
            "\n",
            "\n",
            "\n",
            "\n",
            "Retrieving weather data for Sullivan\n",
            "\n",
            "\n",
            "Currently retrieving data for Sullivan: from 2009-06-24 to 2009-06-30\n"
          ]
        },
        {
          "name": "stderr",
          "output_type": "stream",
          "text": [
            "/Users/sreetam/Library/Python/3.8/lib/python/site-packages/wwo_hist/__init__.py:69: FutureWarning: Argument `closed` is deprecated in favor of `inclusive`.\n",
            "  list_mon_begin = pd.date_range(start_date, end_date, freq='MS', closed='right')\n",
            "/Users/sreetam/Library/Python/3.8/lib/python/site-packages/wwo_hist/__init__.py:74: FutureWarning: Argument `closed` is deprecated in favor of `inclusive`.\n",
            "  list_mon_end = pd.date_range(start_date, end_date, freq='M', closed='left')\n"
          ]
        },
        {
          "name": "stdout",
          "output_type": "stream",
          "text": [
            "Time elapsed (hh:mm:ss.ms) 0:00:00.533294\n",
            "Currently retrieving data for Sullivan: from 2009-07-01 to 2009-07-31\n",
            "Time elapsed (hh:mm:ss.ms) 0:00:01.375416\n",
            "Currently retrieving data for Sullivan: from 2009-08-01 to 2009-08-17\n",
            "Time elapsed (hh:mm:ss.ms) 0:00:02.057145\n",
            "\n",
            "\n",
            "export Sullivan completed!\n",
            "\n",
            "\n",
            "\n",
            "\n",
            "Retrieving weather data for Columbia\n",
            "\n",
            "\n",
            "Currently retrieving data for Columbia: from 2009-06-24 to 2009-06-30\n"
          ]
        },
        {
          "name": "stderr",
          "output_type": "stream",
          "text": [
            "/Users/sreetam/Library/Python/3.8/lib/python/site-packages/wwo_hist/__init__.py:69: FutureWarning: Argument `closed` is deprecated in favor of `inclusive`.\n",
            "  list_mon_begin = pd.date_range(start_date, end_date, freq='MS', closed='right')\n",
            "/Users/sreetam/Library/Python/3.8/lib/python/site-packages/wwo_hist/__init__.py:74: FutureWarning: Argument `closed` is deprecated in favor of `inclusive`.\n",
            "  list_mon_end = pd.date_range(start_date, end_date, freq='M', closed='left')\n"
          ]
        },
        {
          "name": "stdout",
          "output_type": "stream",
          "text": [
            "Time elapsed (hh:mm:ss.ms) 0:00:00.522311\n",
            "Currently retrieving data for Columbia: from 2009-07-01 to 2009-07-31\n",
            "Time elapsed (hh:mm:ss.ms) 0:00:01.315389\n",
            "Currently retrieving data for Columbia: from 2009-08-01 to 2009-08-17\n",
            "Time elapsed (hh:mm:ss.ms) 0:00:01.957731\n",
            "\n",
            "\n",
            "export Columbia completed!\n",
            "\n",
            "\n",
            "\n",
            "\n",
            "Retrieving weather data for Dutchess\n",
            "\n",
            "\n",
            "Currently retrieving data for Dutchess: from 2009-06-24 to 2009-06-30\n"
          ]
        },
        {
          "name": "stderr",
          "output_type": "stream",
          "text": [
            "/Users/sreetam/Library/Python/3.8/lib/python/site-packages/wwo_hist/__init__.py:69: FutureWarning: Argument `closed` is deprecated in favor of `inclusive`.\n",
            "  list_mon_begin = pd.date_range(start_date, end_date, freq='MS', closed='right')\n",
            "/Users/sreetam/Library/Python/3.8/lib/python/site-packages/wwo_hist/__init__.py:74: FutureWarning: Argument `closed` is deprecated in favor of `inclusive`.\n",
            "  list_mon_end = pd.date_range(start_date, end_date, freq='M', closed='left')\n"
          ]
        },
        {
          "name": "stdout",
          "output_type": "stream",
          "text": [
            "Time elapsed (hh:mm:ss.ms) 0:00:00.505665\n",
            "Currently retrieving data for Dutchess: from 2009-07-01 to 2009-07-31\n",
            "Time elapsed (hh:mm:ss.ms) 0:00:01.274666\n",
            "Currently retrieving data for Dutchess: from 2009-08-01 to 2009-08-17\n",
            "Time elapsed (hh:mm:ss.ms) 0:00:01.912292\n",
            "\n",
            "\n",
            "export Dutchess completed!\n",
            "\n",
            "\n",
            "\n",
            "\n",
            "Retrieving weather data for Putnam\n",
            "\n",
            "\n",
            "Currently retrieving data for Putnam: from 2009-06-24 to 2009-06-30\n"
          ]
        },
        {
          "name": "stderr",
          "output_type": "stream",
          "text": [
            "/Users/sreetam/Library/Python/3.8/lib/python/site-packages/wwo_hist/__init__.py:69: FutureWarning: Argument `closed` is deprecated in favor of `inclusive`.\n",
            "  list_mon_begin = pd.date_range(start_date, end_date, freq='MS', closed='right')\n",
            "/Users/sreetam/Library/Python/3.8/lib/python/site-packages/wwo_hist/__init__.py:74: FutureWarning: Argument `closed` is deprecated in favor of `inclusive`.\n",
            "  list_mon_end = pd.date_range(start_date, end_date, freq='M', closed='left')\n"
          ]
        },
        {
          "name": "stdout",
          "output_type": "stream",
          "text": [
            "Time elapsed (hh:mm:ss.ms) 0:00:00.439298\n",
            "Currently retrieving data for Putnam: from 2009-07-01 to 2009-07-31\n",
            "Time elapsed (hh:mm:ss.ms) 0:00:01.158817\n",
            "Currently retrieving data for Putnam: from 2009-08-01 to 2009-08-17\n",
            "Time elapsed (hh:mm:ss.ms) 0:00:01.765042\n",
            "\n",
            "\n",
            "export Putnam completed!\n",
            "\n",
            "\n",
            "\n",
            "\n",
            "Retrieving weather data for Orange\n",
            "\n",
            "\n",
            "Currently retrieving data for Orange: from 2009-06-24 to 2009-06-30\n"
          ]
        },
        {
          "name": "stderr",
          "output_type": "stream",
          "text": [
            "/Users/sreetam/Library/Python/3.8/lib/python/site-packages/wwo_hist/__init__.py:69: FutureWarning: Argument `closed` is deprecated in favor of `inclusive`.\n",
            "  list_mon_begin = pd.date_range(start_date, end_date, freq='MS', closed='right')\n",
            "/Users/sreetam/Library/Python/3.8/lib/python/site-packages/wwo_hist/__init__.py:74: FutureWarning: Argument `closed` is deprecated in favor of `inclusive`.\n",
            "  list_mon_end = pd.date_range(start_date, end_date, freq='M', closed='left')\n"
          ]
        },
        {
          "name": "stdout",
          "output_type": "stream",
          "text": [
            "Time elapsed (hh:mm:ss.ms) 0:00:00.517022\n",
            "Currently retrieving data for Orange: from 2009-07-01 to 2009-07-31\n",
            "Time elapsed (hh:mm:ss.ms) 0:00:01.358118\n",
            "Currently retrieving data for Orange: from 2009-08-01 to 2009-08-17\n",
            "Time elapsed (hh:mm:ss.ms) 0:00:02.059468\n",
            "\n",
            "\n",
            "export Orange completed!\n",
            "\n",
            "\n",
            "\n",
            "\n",
            "Retrieving weather data for Westchester\n",
            "\n",
            "\n",
            "Currently retrieving data for Westchester: from 2009-06-24 to 2009-06-30\n"
          ]
        },
        {
          "name": "stderr",
          "output_type": "stream",
          "text": [
            "/Users/sreetam/Library/Python/3.8/lib/python/site-packages/wwo_hist/__init__.py:69: FutureWarning: Argument `closed` is deprecated in favor of `inclusive`.\n",
            "  list_mon_begin = pd.date_range(start_date, end_date, freq='MS', closed='right')\n",
            "/Users/sreetam/Library/Python/3.8/lib/python/site-packages/wwo_hist/__init__.py:74: FutureWarning: Argument `closed` is deprecated in favor of `inclusive`.\n",
            "  list_mon_end = pd.date_range(start_date, end_date, freq='M', closed='left')\n"
          ]
        },
        {
          "name": "stdout",
          "output_type": "stream",
          "text": [
            "Time elapsed (hh:mm:ss.ms) 0:00:00.480444\n",
            "Currently retrieving data for Westchester: from 2009-07-01 to 2009-07-31\n",
            "Time elapsed (hh:mm:ss.ms) 0:00:01.280072\n",
            "Currently retrieving data for Westchester: from 2009-08-01 to 2009-08-17\n",
            "Time elapsed (hh:mm:ss.ms) 0:00:01.945280\n",
            "\n",
            "\n",
            "export Westchester completed!\n",
            "\n",
            "\n",
            "\n",
            "\n",
            "Retrieving weather data for Rockland\n",
            "\n",
            "\n",
            "Currently retrieving data for Rockland: from 2009-06-24 to 2009-06-30\n"
          ]
        },
        {
          "name": "stderr",
          "output_type": "stream",
          "text": [
            "/Users/sreetam/Library/Python/3.8/lib/python/site-packages/wwo_hist/__init__.py:69: FutureWarning: Argument `closed` is deprecated in favor of `inclusive`.\n",
            "  list_mon_begin = pd.date_range(start_date, end_date, freq='MS', closed='right')\n",
            "/Users/sreetam/Library/Python/3.8/lib/python/site-packages/wwo_hist/__init__.py:74: FutureWarning: Argument `closed` is deprecated in favor of `inclusive`.\n",
            "  list_mon_end = pd.date_range(start_date, end_date, freq='M', closed='left')\n"
          ]
        },
        {
          "name": "stdout",
          "output_type": "stream",
          "text": [
            "Time elapsed (hh:mm:ss.ms) 0:00:00.498932\n",
            "Currently retrieving data for Rockland: from 2009-07-01 to 2009-07-31\n",
            "Time elapsed (hh:mm:ss.ms) 0:00:01.303123\n",
            "Currently retrieving data for Rockland: from 2009-08-01 to 2009-08-17\n",
            "Time elapsed (hh:mm:ss.ms) 0:00:01.968214\n",
            "\n",
            "\n",
            "export Rockland completed!\n",
            "\n",
            "\n",
            "\n",
            "\n",
            "Retrieving weather data for Nassau\n",
            "\n",
            "\n",
            "Currently retrieving data for Nassau: from 2009-06-24 to 2009-06-30\n"
          ]
        },
        {
          "name": "stderr",
          "output_type": "stream",
          "text": [
            "/Users/sreetam/Library/Python/3.8/lib/python/site-packages/wwo_hist/__init__.py:69: FutureWarning: Argument `closed` is deprecated in favor of `inclusive`.\n",
            "  list_mon_begin = pd.date_range(start_date, end_date, freq='MS', closed='right')\n",
            "/Users/sreetam/Library/Python/3.8/lib/python/site-packages/wwo_hist/__init__.py:74: FutureWarning: Argument `closed` is deprecated in favor of `inclusive`.\n",
            "  list_mon_end = pd.date_range(start_date, end_date, freq='M', closed='left')\n"
          ]
        },
        {
          "name": "stdout",
          "output_type": "stream",
          "text": [
            "Time elapsed (hh:mm:ss.ms) 0:00:00.479176\n",
            "Currently retrieving data for Nassau: from 2009-07-01 to 2009-07-31\n",
            "Time elapsed (hh:mm:ss.ms) 0:00:01.344221\n",
            "Currently retrieving data for Nassau: from 2009-08-01 to 2009-08-17\n",
            "Time elapsed (hh:mm:ss.ms) 0:00:02.023282\n",
            "\n",
            "\n",
            "export Nassau completed!\n",
            "\n",
            "\n",
            "\n",
            "\n",
            "Retrieving weather data for Suffolk\n",
            "\n",
            "\n",
            "Currently retrieving data for Suffolk: from 2009-06-24 to 2009-06-30\n"
          ]
        },
        {
          "name": "stderr",
          "output_type": "stream",
          "text": [
            "/Users/sreetam/Library/Python/3.8/lib/python/site-packages/wwo_hist/__init__.py:69: FutureWarning: Argument `closed` is deprecated in favor of `inclusive`.\n",
            "  list_mon_begin = pd.date_range(start_date, end_date, freq='MS', closed='right')\n",
            "/Users/sreetam/Library/Python/3.8/lib/python/site-packages/wwo_hist/__init__.py:74: FutureWarning: Argument `closed` is deprecated in favor of `inclusive`.\n",
            "  list_mon_end = pd.date_range(start_date, end_date, freq='M', closed='left')\n"
          ]
        },
        {
          "name": "stdout",
          "output_type": "stream",
          "text": [
            "Time elapsed (hh:mm:ss.ms) 0:00:00.500651\n",
            "Currently retrieving data for Suffolk: from 2009-07-01 to 2009-07-31\n",
            "Time elapsed (hh:mm:ss.ms) 0:00:01.273169\n",
            "Currently retrieving data for Suffolk: from 2009-08-01 to 2009-08-17\n",
            "Time elapsed (hh:mm:ss.ms) 0:00:01.971673\n",
            "\n",
            "\n",
            "export Suffolk completed!\n",
            "\n",
            "\n",
            "\n",
            "\n",
            "Retrieving weather data for richmond\n",
            "\n",
            "\n",
            "Currently retrieving data for richmond: from 2009-06-24 to 2009-06-30\n"
          ]
        },
        {
          "name": "stderr",
          "output_type": "stream",
          "text": [
            "/Users/sreetam/Library/Python/3.8/lib/python/site-packages/wwo_hist/__init__.py:69: FutureWarning: Argument `closed` is deprecated in favor of `inclusive`.\n",
            "  list_mon_begin = pd.date_range(start_date, end_date, freq='MS', closed='right')\n",
            "/Users/sreetam/Library/Python/3.8/lib/python/site-packages/wwo_hist/__init__.py:74: FutureWarning: Argument `closed` is deprecated in favor of `inclusive`.\n",
            "  list_mon_end = pd.date_range(start_date, end_date, freq='M', closed='left')\n"
          ]
        },
        {
          "name": "stdout",
          "output_type": "stream",
          "text": [
            "Time elapsed (hh:mm:ss.ms) 0:00:00.477001\n",
            "Currently retrieving data for richmond: from 2009-07-01 to 2009-07-31\n",
            "Time elapsed (hh:mm:ss.ms) 0:00:01.306001\n",
            "Currently retrieving data for richmond: from 2009-08-01 to 2009-08-17\n",
            "Time elapsed (hh:mm:ss.ms) 0:00:01.971821\n",
            "\n",
            "\n",
            "export richmond completed!\n",
            "\n",
            "\n",
            "\n",
            "\n",
            "Retrieving weather data for queens\n",
            "\n",
            "\n",
            "Currently retrieving data for queens: from 2009-06-24 to 2009-06-30\n"
          ]
        },
        {
          "name": "stderr",
          "output_type": "stream",
          "text": [
            "/Users/sreetam/Library/Python/3.8/lib/python/site-packages/wwo_hist/__init__.py:69: FutureWarning: Argument `closed` is deprecated in favor of `inclusive`.\n",
            "  list_mon_begin = pd.date_range(start_date, end_date, freq='MS', closed='right')\n",
            "/Users/sreetam/Library/Python/3.8/lib/python/site-packages/wwo_hist/__init__.py:74: FutureWarning: Argument `closed` is deprecated in favor of `inclusive`.\n",
            "  list_mon_end = pd.date_range(start_date, end_date, freq='M', closed='left')\n"
          ]
        },
        {
          "name": "stdout",
          "output_type": "stream",
          "text": [
            "Time elapsed (hh:mm:ss.ms) 0:00:00.552681\n",
            "Currently retrieving data for queens: from 2009-07-01 to 2009-07-31\n",
            "Time elapsed (hh:mm:ss.ms) 0:00:01.365431\n",
            "Currently retrieving data for queens: from 2009-08-01 to 2009-08-17\n",
            "Time elapsed (hh:mm:ss.ms) 0:00:02.084181\n",
            "\n",
            "\n",
            "export queens completed!\n",
            "\n",
            "\n",
            "\n",
            "\n",
            "Retrieving weather data for kings\n",
            "\n",
            "\n",
            "Currently retrieving data for kings: from 2009-06-24 to 2009-06-30\n"
          ]
        },
        {
          "name": "stderr",
          "output_type": "stream",
          "text": [
            "/Users/sreetam/Library/Python/3.8/lib/python/site-packages/wwo_hist/__init__.py:69: FutureWarning: Argument `closed` is deprecated in favor of `inclusive`.\n",
            "  list_mon_begin = pd.date_range(start_date, end_date, freq='MS', closed='right')\n",
            "/Users/sreetam/Library/Python/3.8/lib/python/site-packages/wwo_hist/__init__.py:74: FutureWarning: Argument `closed` is deprecated in favor of `inclusive`.\n",
            "  list_mon_end = pd.date_range(start_date, end_date, freq='M', closed='left')\n"
          ]
        },
        {
          "name": "stdout",
          "output_type": "stream",
          "text": [
            "Time elapsed (hh:mm:ss.ms) 0:00:00.512214\n",
            "Currently retrieving data for kings: from 2009-07-01 to 2009-07-31\n",
            "Time elapsed (hh:mm:ss.ms) 0:00:01.321425\n",
            "Currently retrieving data for kings: from 2009-08-01 to 2009-08-17\n",
            "Time elapsed (hh:mm:ss.ms) 0:00:02.047525\n",
            "\n",
            "\n",
            "export kings completed!\n",
            "\n",
            "\n",
            "\n",
            "\n",
            "Retrieving weather data for bronx\n",
            "\n",
            "\n",
            "Currently retrieving data for bronx: from 2009-06-24 to 2009-06-30\n"
          ]
        },
        {
          "name": "stderr",
          "output_type": "stream",
          "text": [
            "/Users/sreetam/Library/Python/3.8/lib/python/site-packages/wwo_hist/__init__.py:69: FutureWarning: Argument `closed` is deprecated in favor of `inclusive`.\n",
            "  list_mon_begin = pd.date_range(start_date, end_date, freq='MS', closed='right')\n",
            "/Users/sreetam/Library/Python/3.8/lib/python/site-packages/wwo_hist/__init__.py:74: FutureWarning: Argument `closed` is deprecated in favor of `inclusive`.\n",
            "  list_mon_end = pd.date_range(start_date, end_date, freq='M', closed='left')\n"
          ]
        },
        {
          "name": "stdout",
          "output_type": "stream",
          "text": [
            "Time elapsed (hh:mm:ss.ms) 0:00:00.513090\n",
            "Currently retrieving data for bronx: from 2009-07-01 to 2009-07-31\n",
            "Time elapsed (hh:mm:ss.ms) 0:00:01.285704\n",
            "Currently retrieving data for bronx: from 2009-08-01 to 2009-08-17\n",
            "Time elapsed (hh:mm:ss.ms) 0:00:01.997993\n",
            "\n",
            "\n",
            "export bronx completed!\n",
            "\n",
            "\n"
          ]
        }
      ],
      "source": [
        "frequency = 24\n",
        "start_date = '24-JUNE-2009'\n",
        "end_date = '17-AUG-2009'\n",
        "api_key = '7be3e38b915c466797954501222908'\n",
        "# location_list = avl\n",
        "location_list = df['city']\n",
        "hist_weather_data = retrieve_hist_data(api_key, location_list, start_date, end_date, frequency, \n",
        "                                      location_label = False, export_csv = True, store_df = True)\n",
        "# !cp ./*.csv ./drive/MyDrive/datacilantro/\n",
        "!mv ./*.csv ./weather_data/\n",
        "!mv ./weather_data/risk_pred.csv ./\n",
        "!mv ./weather_data/city.csv ./"
      ]
    },
    {
      "cell_type": "code",
      "execution_count": 8,
      "metadata": {
        "id": "KapqNSvyZKTv"
      },
      "outputs": [],
      "source": [
        "dat = ['date_time', 'humidity', 'tempC']\n",
        "for i in range(len(hist_weather_data)):\n",
        "  hist_weather_data[i] = hist_weather_data[i][dat].reset_index(drop=True)"
      ]
    },
    {
      "cell_type": "code",
      "execution_count": 9,
      "metadata": {
        "id": "6SNy-nhVcz6t"
      },
      "outputs": [],
      "source": [
        "def getDat(atr, date):\n",
        "  val = dict()\n",
        "  for i in range(len(hist_weather_data)):\n",
        "    # val[df['city'][i]] = 1/(1 + np.exp(-float(hist_weather_data[i][atr][date])/100))\n",
        "    val[df['city'][i]] = float(hist_weather_data[i][atr][date])\n",
        "  return val"
      ]
    },
    {
      "cell_type": "code",
      "execution_count": 10,
      "metadata": {
        "id": "v3d2-KZNmGsM"
      },
      "outputs": [],
      "source": [
        "# Higher weight means more probability of transmission\n",
        "def calc_weight(x, y):\n",
        "  d = geopy.distance.geodesic(regions[x], regions[y]).km\n",
        "  if d==0: return 0\n",
        "  return 1/(1 + np.exp(-1/d))\n",
        "\n",
        "# Calculate the decay as per the formula\n",
        "def find_decay():\n",
        "    d = 0.6666667\n",
        "    return np.array([[d, d]])"
      ]
    },
    {
      "cell_type": "code",
      "execution_count": 11,
      "metadata": {
        "id": "FO9Uoy8VmpAz"
      },
      "outputs": [],
      "source": [
        "# The transmission graph contains info of the vector score, ie, weights\n",
        "# between two nodes L1 and L2\n",
        "\n",
        "class transmission_graph:\n",
        "  # dense = []\n",
        "  # susceptibility = dict()\n",
        "  def __init__(self, sample=False):\n",
        "    # n denotes the number of districts or nodes in the graph\n",
        "    self.tempC = dict()\n",
        "    self.humidity = dict()\n",
        "    self.n = len(regions)\n",
        "    self.city = list(regions.keys())\n",
        "    # adj_matrix is the adjacency matrix\n",
        "    # The ith row and jth column of the adjacency matrix\n",
        "    # stores the weight of the edge between ith and jth node\n",
        "    self.adj_matrix = dict()\n",
        "    self.E = [[-1, -1], [-1, -1]]\n",
        "    self.susceptibility = dict()\n",
        "    self.initialize_matrix()\n",
        "\n",
        "  # This function initialises the graph with nodes and stores weights between each node of the graph\n",
        "  def initialize_matrix(self):\n",
        "    # Iterate over each node in the graph\n",
        "    for i in regions.keys():\n",
        "      # Iterate over all the neighbours\n",
        "      self.adj_matrix[i] = dict()\n",
        "      for j in regions.keys():\n",
        "        self.adj_matrix[i][j] = calc_weight(i, j)\n",
        "    # Also assign the susceptibility value of each node\n",
        "    self.compute_susceptibility(0)\n",
        "  def compute_susceptibility(self, day):\n",
        "    s = dict()\n",
        "    self.tempC = getDat('tempC', day)\n",
        "    self.humidity = getDat('humidity', day)\n",
        "    # print(self.tempC['Albany'])\n",
        "    for i in regions.keys():\n",
        "        self.susceptibility[i] = self.calc_susceptibility_score(i)[0][0]\n",
        "        s[i] = self.calc_susceptibility_score(i)[0][0]\n",
        "        # if i=='Albany':\n",
        "        #   print(self.calc_susceptibility_score(i)[0][0])\n",
        "    return s\n",
        "  # Function to modify the edge weight between two regions\n",
        "  def change_weight(self, r1, r2, wt):\n",
        "    self.adj_matrix[r1][r2] = wt\n",
        "  def calc_susceptibility_score(self, node):\n",
        "    Sn = np.array([[self.tempC[node], self.humidity[node]]])\n",
        "    Sn = Sn.transpose()\n",
        "    decay = find_decay()\n",
        "    y = np.matmul(decay, Sn)\n",
        "    # if node=='Albany':\n",
        "    #   print(y)\n",
        "    return y"
      ]
    },
    {
      "cell_type": "code",
      "execution_count": 12,
      "metadata": {
        "id": "KrDYDriq3YBL"
      },
      "outputs": [],
      "source": [
        "g = transmission_graph()"
      ]
    },
    {
      "cell_type": "code",
      "execution_count": 13,
      "metadata": {
        "id": "CWJVISEsZ_Cj"
      },
      "outputs": [],
      "source": [
        "susceptibility_df = dict()\n",
        "# s_l = []\n",
        "for i in range(len(hist_weather_data[0]['date_time'])):\n",
        "  susceptibility_df[i] = g.compute_susceptibility(i)\n",
        "  # g.compute_susceptibility(i)\n",
        "  # susceptibility_df[i] = g.susceptibility\n",
        "  # s_l.append(g.susceptibility)\n",
        "  # print(g.susceptibility['Albany'])\n",
        "s_df = pd.DataFrame(susceptibility_df)"
      ]
    },
    {
      "cell_type": "code",
      "execution_count": 14,
      "metadata": {},
      "outputs": [
        {
          "data": {
            "text/plain": [
              "Index(['city', '06/24/2009', '06/30/2009', '07/08/2009', '08/17/2009'], dtype='object')"
            ]
          },
          "execution_count": 14,
          "metadata": {},
          "output_type": "execute_result"
        }
      ],
      "source": [
        "df.columns"
      ]
    },
    {
      "cell_type": "code",
      "execution_count": 24,
      "metadata": {},
      "outputs": [
        {
          "data": {
            "text/plain": [
              "DatetimeIndex(['2009-06-24', '2009-06-25', '2009-06-26', '2009-06-27',\n",
              "               '2009-06-28', '2009-06-29', '2009-06-30', '2009-07-01',\n",
              "               '2009-07-02', '2009-07-03', '2009-07-04', '2009-07-05',\n",
              "               '2009-07-06', '2009-07-07', '2009-07-08', '2009-07-09',\n",
              "               '2009-07-10', '2009-07-11', '2009-07-12', '2009-07-13',\n",
              "               '2009-07-14', '2009-07-15', '2009-07-16', '2009-07-17',\n",
              "               '2009-07-18', '2009-07-19', '2009-07-20', '2009-07-21',\n",
              "               '2009-07-22', '2009-07-23', '2009-07-24', '2009-07-25',\n",
              "               '2009-07-26', '2009-07-27', '2009-07-28', '2009-07-29',\n",
              "               '2009-07-30', '2009-07-31', '2009-08-01', '2009-08-02',\n",
              "               '2009-08-03', '2009-08-04', '2009-08-05', '2009-08-06',\n",
              "               '2009-08-07', '2009-08-08', '2009-08-09', '2009-08-10',\n",
              "               '2009-08-11', '2009-08-12', '2009-08-13', '2009-08-14',\n",
              "               '2009-08-15', '2009-08-16', '2009-08-17'],\n",
              "              dtype='datetime64[ns]', freq='D')"
            ]
          },
          "execution_count": 24,
          "metadata": {},
          "output_type": "execute_result"
        }
      ],
      "source": [
        "s_df.columns"
      ]
    },
    {
      "cell_type": "code",
      "execution_count": 27,
      "metadata": {},
      "outputs": [],
      "source": [
        "s_df.columns = [d.strftime('%m/%d/%Y') for d in pd.date_range(df.columns[1], df.columns[-1],freq='d')]"
      ]
    },
    {
      "cell_type": "code",
      "execution_count": 32,
      "metadata": {},
      "outputs": [],
      "source": [
        "s_df.to_csv(\"risk_pred.csv\")\n"
      ]
    },
    {
      "cell_type": "code",
      "execution_count": 31,
      "metadata": {
        "colab": {
          "base_uri": "https://localhost:8080/",
          "height": 286
        },
        "id": "MDsECRtMZAYS",
        "outputId": "cb6b3446-b7ae-4ea8-e929-0865d14fd391"
      },
      "outputs": [
        {
          "data": {
            "text/plain": [
              "<AxesSubplot:>"
            ]
          },
          "execution_count": 31,
          "metadata": {},
          "output_type": "execute_result"
        },
        {
          "data": {
            "image/png": "[encoded data removed]",
            "text/plain": [
              "<Figure size 432x288 with 2 Axes>"
            ]
          },
          "metadata": {
            "needs_background": "light"
          },
          "output_type": "display_data"
        }
      ],
      "source": [
        "sns.heatmap(s_df[df.columns[1:]])"
      ]
    },
    {
      "cell_type": "code",
      "execution_count": 20,
      "metadata": {
        "colab": {
          "base_uri": "https://localhost:8080/",
          "height": 286
        },
        "id": "6SRsqQYQcuKW",
        "outputId": "609c9a47-20c6-4d6a-8423-0fdb04a2509d"
      },
      "outputs": [
        {
          "data": {
            "text/plain": [
              "<AxesSubplot:ylabel='city'>"
            ]
          },
          "execution_count": 20,
          "metadata": {},
          "output_type": "execute_result"
        },
        {
          "data": {
            "image/png": "[encoded data removed]",
            "text/plain": [
              "<Figure size 432x288 with 2 Axes>"
            ]
          },
          "metadata": {
            "needs_background": "light"
          },
          "output_type": "display_data"
        }
      ],
      "source": [
        "sns.heatmap(df.set_index(['city']))"
      ]
    },
    {
      "cell_type": "code",
      "execution_count": 21,
      "metadata": {
        "colab": {
          "base_uri": "https://localhost:8080/",
          "height": 1000
        },
        "id": "0ZC0u2n1dDtX",
        "outputId": "59ac80b4-21d6-45ee-d654-a3ace6863607"
      },
      "outputs": [
        {
          "data": {
            "text/html": [
              "<div>\n",
              "<style scoped>\n",
              "    .dataframe tbody tr th:only-of-type {\n",
              "        vertical-align: middle;\n",
              "    }\n",
              "\n",
              "    .dataframe tbody tr th {\n",
              "        vertical-align: top;\n",
              "    }\n",
              "\n",
              "    .dataframe thead th {\n",
              "        text-align: right;\n",
              "    }\n",
              "</style>\n",
              "<table border=\"1\" class=\"dataframe\">\n",
              "  <thead>\n",
              "    <tr style=\"text-align: right;\">\n",
              "      <th></th>\n",
              "      <th>city</th>\n",
              "      <th>06/24/2009</th>\n",
              "      <th>06/30/2009</th>\n",
              "      <th>07/08/2009</th>\n",
              "      <th>08/17/2009</th>\n",
              "    </tr>\n",
              "  </thead>\n",
              "  <tbody>\n",
              "    <tr>\n",
              "      <th>0</th>\n",
              "      <td>Niagara</td>\n",
              "      <td>0.5</td>\n",
              "      <td>0.5</td>\n",
              "      <td>0.5</td>\n",
              "      <td>1.0</td>\n",
              "    </tr>\n",
              "    <tr>\n",
              "      <th>1</th>\n",
              "      <td>Genesee</td>\n",
              "      <td>0.5</td>\n",
              "      <td>1.0</td>\n",
              "      <td>1.0</td>\n",
              "      <td>1.0</td>\n",
              "    </tr>\n",
              "    <tr>\n",
              "      <th>2</th>\n",
              "      <td>Wyoming</td>\n",
              "      <td>0.5</td>\n",
              "      <td>0.5</td>\n",
              "      <td>0.5</td>\n",
              "      <td>1.0</td>\n",
              "    </tr>\n",
              "    <tr>\n",
              "      <th>3</th>\n",
              "      <td>Erie</td>\n",
              "      <td>0.5</td>\n",
              "      <td>1.0</td>\n",
              "      <td>1.0</td>\n",
              "      <td>1.0</td>\n",
              "    </tr>\n",
              "    <tr>\n",
              "      <th>4</th>\n",
              "      <td>Chautauqua</td>\n",
              "      <td>0.5</td>\n",
              "      <td>0.5</td>\n",
              "      <td>1.0</td>\n",
              "      <td>1.0</td>\n",
              "    </tr>\n",
              "    <tr>\n",
              "      <th>5</th>\n",
              "      <td>Cattaraugus</td>\n",
              "      <td>0.5</td>\n",
              "      <td>0.5</td>\n",
              "      <td>0.5</td>\n",
              "      <td>1.0</td>\n",
              "    </tr>\n",
              "    <tr>\n",
              "      <th>6</th>\n",
              "      <td>Allegany</td>\n",
              "      <td>0.5</td>\n",
              "      <td>0.5</td>\n",
              "      <td>0.5</td>\n",
              "      <td>1.0</td>\n",
              "    </tr>\n",
              "    <tr>\n",
              "      <th>7</th>\n",
              "      <td>Monroe</td>\n",
              "      <td>0.5</td>\n",
              "      <td>1.0</td>\n",
              "      <td>1.0</td>\n",
              "      <td>1.0</td>\n",
              "    </tr>\n",
              "    <tr>\n",
              "      <th>8</th>\n",
              "      <td>Steuben</td>\n",
              "      <td>0.5</td>\n",
              "      <td>0.5</td>\n",
              "      <td>0.5</td>\n",
              "      <td>1.0</td>\n",
              "    </tr>\n",
              "    <tr>\n",
              "      <th>9</th>\n",
              "      <td>Yates</td>\n",
              "      <td>0.5</td>\n",
              "      <td>0.5</td>\n",
              "      <td>0.5</td>\n",
              "      <td>1.0</td>\n",
              "    </tr>\n",
              "    <tr>\n",
              "      <th>10</th>\n",
              "      <td>Ontario</td>\n",
              "      <td>0.5</td>\n",
              "      <td>1.0</td>\n",
              "      <td>1.0</td>\n",
              "      <td>1.0</td>\n",
              "    </tr>\n",
              "    <tr>\n",
              "      <th>11</th>\n",
              "      <td>Wayne</td>\n",
              "      <td>0.5</td>\n",
              "      <td>0.5</td>\n",
              "      <td>1.0</td>\n",
              "      <td>1.0</td>\n",
              "    </tr>\n",
              "    <tr>\n",
              "      <th>12</th>\n",
              "      <td>Livingston</td>\n",
              "      <td>0.5</td>\n",
              "      <td>0.5</td>\n",
              "      <td>0.5</td>\n",
              "      <td>1.0</td>\n",
              "    </tr>\n",
              "    <tr>\n",
              "      <th>13</th>\n",
              "      <td>Schuyler</td>\n",
              "      <td>0.5</td>\n",
              "      <td>0.5</td>\n",
              "      <td>0.5</td>\n",
              "      <td>1.0</td>\n",
              "    </tr>\n",
              "    <tr>\n",
              "      <th>14</th>\n",
              "      <td>Chemung</td>\n",
              "      <td>0.5</td>\n",
              "      <td>0.5</td>\n",
              "      <td>0.5</td>\n",
              "      <td>0.5</td>\n",
              "    </tr>\n",
              "    <tr>\n",
              "      <th>15</th>\n",
              "      <td>Tioga</td>\n",
              "      <td>0.5</td>\n",
              "      <td>0.5</td>\n",
              "      <td>0.5</td>\n",
              "      <td>1.0</td>\n",
              "    </tr>\n",
              "    <tr>\n",
              "      <th>16</th>\n",
              "      <td>Tompkins</td>\n",
              "      <td>1.0</td>\n",
              "      <td>1.0</td>\n",
              "      <td>1.0</td>\n",
              "      <td>1.0</td>\n",
              "    </tr>\n",
              "    <tr>\n",
              "      <th>17</th>\n",
              "      <td>Seneca</td>\n",
              "      <td>0.5</td>\n",
              "      <td>0.5</td>\n",
              "      <td>0.5</td>\n",
              "      <td>1.0</td>\n",
              "    </tr>\n",
              "    <tr>\n",
              "      <th>18</th>\n",
              "      <td>Onondaga</td>\n",
              "      <td>0.5</td>\n",
              "      <td>0.5</td>\n",
              "      <td>1.0</td>\n",
              "      <td>1.0</td>\n",
              "    </tr>\n",
              "    <tr>\n",
              "      <th>19</th>\n",
              "      <td>Cortland</td>\n",
              "      <td>0.5</td>\n",
              "      <td>1.0</td>\n",
              "      <td>1.0</td>\n",
              "      <td>1.0</td>\n",
              "    </tr>\n",
              "    <tr>\n",
              "      <th>20</th>\n",
              "      <td>Jefferson</td>\n",
              "      <td>0.5</td>\n",
              "      <td>1.0</td>\n",
              "      <td>1.0</td>\n",
              "      <td>1.0</td>\n",
              "    </tr>\n",
              "    <tr>\n",
              "      <th>21</th>\n",
              "      <td>Oswego</td>\n",
              "      <td>0.5</td>\n",
              "      <td>0.5</td>\n",
              "      <td>0.5</td>\n",
              "      <td>1.0</td>\n",
              "    </tr>\n",
              "    <tr>\n",
              "      <th>22</th>\n",
              "      <td>Oneida</td>\n",
              "      <td>0.5</td>\n",
              "      <td>0.5</td>\n",
              "      <td>1.0</td>\n",
              "      <td>1.0</td>\n",
              "    </tr>\n",
              "    <tr>\n",
              "      <th>23</th>\n",
              "      <td>Madison</td>\n",
              "      <td>0.5</td>\n",
              "      <td>0.5</td>\n",
              "      <td>0.5</td>\n",
              "      <td>0.5</td>\n",
              "    </tr>\n",
              "    <tr>\n",
              "      <th>24</th>\n",
              "      <td>Chenango</td>\n",
              "      <td>0.5</td>\n",
              "      <td>1.0</td>\n",
              "      <td>1.0</td>\n",
              "      <td>1.0</td>\n",
              "    </tr>\n",
              "    <tr>\n",
              "      <th>25</th>\n",
              "      <td>Broome</td>\n",
              "      <td>0.5</td>\n",
              "      <td>0.5</td>\n",
              "      <td>0.5</td>\n",
              "      <td>1.0</td>\n",
              "    </tr>\n",
              "    <tr>\n",
              "      <th>26</th>\n",
              "      <td>Otsego</td>\n",
              "      <td>0.5</td>\n",
              "      <td>0.5</td>\n",
              "      <td>1.0</td>\n",
              "      <td>1.0</td>\n",
              "    </tr>\n",
              "    <tr>\n",
              "      <th>27</th>\n",
              "      <td>lewis</td>\n",
              "      <td>0.5</td>\n",
              "      <td>0.5</td>\n",
              "      <td>1.0</td>\n",
              "      <td>1.0</td>\n",
              "    </tr>\n",
              "    <tr>\n",
              "      <th>28</th>\n",
              "      <td>Herkimer</td>\n",
              "      <td>0.5</td>\n",
              "      <td>0.5</td>\n",
              "      <td>0.5</td>\n",
              "      <td>0.5</td>\n",
              "    </tr>\n",
              "    <tr>\n",
              "      <th>29</th>\n",
              "      <td>Hamilton</td>\n",
              "      <td>0.5</td>\n",
              "      <td>0.5</td>\n",
              "      <td>0.5</td>\n",
              "      <td>1.0</td>\n",
              "    </tr>\n",
              "    <tr>\n",
              "      <th>30</th>\n",
              "      <td>Franklin</td>\n",
              "      <td>0.5</td>\n",
              "      <td>1.0</td>\n",
              "      <td>1.0</td>\n",
              "      <td>1.0</td>\n",
              "    </tr>\n",
              "    <tr>\n",
              "      <th>31</th>\n",
              "      <td>Clinton</td>\n",
              "      <td>0.5</td>\n",
              "      <td>1.0</td>\n",
              "      <td>1.0</td>\n",
              "      <td>1.0</td>\n",
              "    </tr>\n",
              "    <tr>\n",
              "      <th>32</th>\n",
              "      <td>Essex</td>\n",
              "      <td>0.5</td>\n",
              "      <td>0.5</td>\n",
              "      <td>0.5</td>\n",
              "      <td>1.0</td>\n",
              "    </tr>\n",
              "    <tr>\n",
              "      <th>33</th>\n",
              "      <td>Warren</td>\n",
              "      <td>0.5</td>\n",
              "      <td>0.5</td>\n",
              "      <td>1.0</td>\n",
              "      <td>1.0</td>\n",
              "    </tr>\n",
              "    <tr>\n",
              "      <th>34</th>\n",
              "      <td>Washington</td>\n",
              "      <td>0.5</td>\n",
              "      <td>0.5</td>\n",
              "      <td>1.0</td>\n",
              "      <td>1.0</td>\n",
              "    </tr>\n",
              "    <tr>\n",
              "      <th>35</th>\n",
              "      <td>Fulton</td>\n",
              "      <td>0.5</td>\n",
              "      <td>0.5</td>\n",
              "      <td>0.5</td>\n",
              "      <td>1.0</td>\n",
              "    </tr>\n",
              "    <tr>\n",
              "      <th>36</th>\n",
              "      <td>Saratoga</td>\n",
              "      <td>0.5</td>\n",
              "      <td>0.5</td>\n",
              "      <td>1.0</td>\n",
              "      <td>1.0</td>\n",
              "    </tr>\n",
              "    <tr>\n",
              "      <th>37</th>\n",
              "      <td>Schenectady</td>\n",
              "      <td>0.5</td>\n",
              "      <td>1.0</td>\n",
              "      <td>1.0</td>\n",
              "      <td>1.0</td>\n",
              "    </tr>\n",
              "    <tr>\n",
              "      <th>38</th>\n",
              "      <td>Montgomery</td>\n",
              "      <td>0.5</td>\n",
              "      <td>0.5</td>\n",
              "      <td>1.0</td>\n",
              "      <td>1.0</td>\n",
              "    </tr>\n",
              "    <tr>\n",
              "      <th>39</th>\n",
              "      <td>Schoharie</td>\n",
              "      <td>0.5</td>\n",
              "      <td>0.5</td>\n",
              "      <td>0.5</td>\n",
              "      <td>1.0</td>\n",
              "    </tr>\n",
              "    <tr>\n",
              "      <th>40</th>\n",
              "      <td>Rensselaer</td>\n",
              "      <td>0.5</td>\n",
              "      <td>0.5</td>\n",
              "      <td>1.0</td>\n",
              "      <td>1.0</td>\n",
              "    </tr>\n",
              "    <tr>\n",
              "      <th>41</th>\n",
              "      <td>Albany</td>\n",
              "      <td>0.5</td>\n",
              "      <td>0.5</td>\n",
              "      <td>1.0</td>\n",
              "      <td>1.0</td>\n",
              "    </tr>\n",
              "    <tr>\n",
              "      <th>42</th>\n",
              "      <td>Delaware</td>\n",
              "      <td>0.5</td>\n",
              "      <td>0.5</td>\n",
              "      <td>0.5</td>\n",
              "      <td>1.0</td>\n",
              "    </tr>\n",
              "    <tr>\n",
              "      <th>43</th>\n",
              "      <td>Greene</td>\n",
              "      <td>0.5</td>\n",
              "      <td>0.5</td>\n",
              "      <td>0.5</td>\n",
              "      <td>1.0</td>\n",
              "    </tr>\n",
              "    <tr>\n",
              "      <th>44</th>\n",
              "      <td>Ulster</td>\n",
              "      <td>0.5</td>\n",
              "      <td>1.0</td>\n",
              "      <td>1.0</td>\n",
              "      <td>1.0</td>\n",
              "    </tr>\n",
              "    <tr>\n",
              "      <th>45</th>\n",
              "      <td>Sullivan</td>\n",
              "      <td>0.5</td>\n",
              "      <td>0.5</td>\n",
              "      <td>0.5</td>\n",
              "      <td>0.5</td>\n",
              "    </tr>\n",
              "    <tr>\n",
              "      <th>46</th>\n",
              "      <td>Columbia</td>\n",
              "      <td>0.5</td>\n",
              "      <td>0.5</td>\n",
              "      <td>0.5</td>\n",
              "      <td>1.0</td>\n",
              "    </tr>\n",
              "    <tr>\n",
              "      <th>47</th>\n",
              "      <td>Dutchess</td>\n",
              "      <td>0.5</td>\n",
              "      <td>0.5</td>\n",
              "      <td>1.0</td>\n",
              "      <td>1.0</td>\n",
              "    </tr>\n",
              "    <tr>\n",
              "      <th>48</th>\n",
              "      <td>Putnam</td>\n",
              "      <td>0.5</td>\n",
              "      <td>0.5</td>\n",
              "      <td>0.5</td>\n",
              "      <td>1.0</td>\n",
              "    </tr>\n",
              "    <tr>\n",
              "      <th>49</th>\n",
              "      <td>Orange</td>\n",
              "      <td>0.5</td>\n",
              "      <td>1.0</td>\n",
              "      <td>1.0</td>\n",
              "      <td>1.0</td>\n",
              "    </tr>\n",
              "    <tr>\n",
              "      <th>50</th>\n",
              "      <td>Westchester</td>\n",
              "      <td>0.5</td>\n",
              "      <td>0.5</td>\n",
              "      <td>1.0</td>\n",
              "      <td>1.0</td>\n",
              "    </tr>\n",
              "    <tr>\n",
              "      <th>51</th>\n",
              "      <td>Rockland</td>\n",
              "      <td>0.5</td>\n",
              "      <td>0.5</td>\n",
              "      <td>0.5</td>\n",
              "      <td>1.0</td>\n",
              "    </tr>\n",
              "    <tr>\n",
              "      <th>52</th>\n",
              "      <td>Nassau</td>\n",
              "      <td>0.5</td>\n",
              "      <td>0.5</td>\n",
              "      <td>0.5</td>\n",
              "      <td>1.0</td>\n",
              "    </tr>\n",
              "    <tr>\n",
              "      <th>53</th>\n",
              "      <td>Suffolk</td>\n",
              "      <td>0.5</td>\n",
              "      <td>1.0</td>\n",
              "      <td>1.0</td>\n",
              "      <td>1.0</td>\n",
              "    </tr>\n",
              "    <tr>\n",
              "      <th>54</th>\n",
              "      <td>richmond</td>\n",
              "      <td>0.5</td>\n",
              "      <td>0.5</td>\n",
              "      <td>0.5</td>\n",
              "      <td>0.5</td>\n",
              "    </tr>\n",
              "    <tr>\n",
              "      <th>55</th>\n",
              "      <td>queens</td>\n",
              "      <td>0.5</td>\n",
              "      <td>0.5</td>\n",
              "      <td>0.5</td>\n",
              "      <td>0.5</td>\n",
              "    </tr>\n",
              "    <tr>\n",
              "      <th>56</th>\n",
              "      <td>kings</td>\n",
              "      <td>0.5</td>\n",
              "      <td>0.5</td>\n",
              "      <td>0.5</td>\n",
              "      <td>0.0</td>\n",
              "    </tr>\n",
              "    <tr>\n",
              "      <th>57</th>\n",
              "      <td>bronx</td>\n",
              "      <td>0.5</td>\n",
              "      <td>0.5</td>\n",
              "      <td>0.5</td>\n",
              "      <td>0.5</td>\n",
              "    </tr>\n",
              "  </tbody>\n",
              "</table>\n",
              "</div>"
            ],
            "text/plain": [
              "           city  06/24/2009  06/30/2009  07/08/2009  08/17/2009\n",
              "0       Niagara         0.5         0.5         0.5         1.0\n",
              "1       Genesee         0.5         1.0         1.0         1.0\n",
              "2       Wyoming         0.5         0.5         0.5         1.0\n",
              "3          Erie         0.5         1.0         1.0         1.0\n",
              "4    Chautauqua         0.5         0.5         1.0         1.0\n",
              "5   Cattaraugus         0.5         0.5         0.5         1.0\n",
              "6      Allegany         0.5         0.5         0.5         1.0\n",
              "7        Monroe         0.5         1.0         1.0         1.0\n",
              "8       Steuben         0.5         0.5         0.5         1.0\n",
              "9         Yates         0.5         0.5         0.5         1.0\n",
              "10      Ontario         0.5         1.0         1.0         1.0\n",
              "11        Wayne         0.5         0.5         1.0         1.0\n",
              "12   Livingston         0.5         0.5         0.5         1.0\n",
              "13     Schuyler         0.5         0.5         0.5         1.0\n",
              "14      Chemung         0.5         0.5         0.5         0.5\n",
              "15        Tioga         0.5         0.5         0.5         1.0\n",
              "16     Tompkins         1.0         1.0         1.0         1.0\n",
              "17       Seneca         0.5         0.5         0.5         1.0\n",
              "18     Onondaga         0.5         0.5         1.0         1.0\n",
              "19     Cortland         0.5         1.0         1.0         1.0\n",
              "20    Jefferson         0.5         1.0         1.0         1.0\n",
              "21       Oswego         0.5         0.5         0.5         1.0\n",
              "22       Oneida         0.5         0.5         1.0         1.0\n",
              "23      Madison         0.5         0.5         0.5         0.5\n",
              "24     Chenango         0.5         1.0         1.0         1.0\n",
              "25       Broome         0.5         0.5         0.5         1.0\n",
              "26       Otsego         0.5         0.5         1.0         1.0\n",
              "27        lewis         0.5         0.5         1.0         1.0\n",
              "28     Herkimer         0.5         0.5         0.5         0.5\n",
              "29     Hamilton         0.5         0.5         0.5         1.0\n",
              "30     Franklin         0.5         1.0         1.0         1.0\n",
              "31      Clinton         0.5         1.0         1.0         1.0\n",
              "32        Essex         0.5         0.5         0.5         1.0\n",
              "33       Warren         0.5         0.5         1.0         1.0\n",
              "34   Washington         0.5         0.5         1.0         1.0\n",
              "35       Fulton         0.5         0.5         0.5         1.0\n",
              "36     Saratoga         0.5         0.5         1.0         1.0\n",
              "37  Schenectady         0.5         1.0         1.0         1.0\n",
              "38   Montgomery         0.5         0.5         1.0         1.0\n",
              "39    Schoharie         0.5         0.5         0.5         1.0\n",
              "40   Rensselaer         0.5         0.5         1.0         1.0\n",
              "41       Albany         0.5         0.5         1.0         1.0\n",
              "42     Delaware         0.5         0.5         0.5         1.0\n",
              "43       Greene         0.5         0.5         0.5         1.0\n",
              "44       Ulster         0.5         1.0         1.0         1.0\n",
              "45     Sullivan         0.5         0.5         0.5         0.5\n",
              "46     Columbia         0.5         0.5         0.5         1.0\n",
              "47     Dutchess         0.5         0.5         1.0         1.0\n",
              "48       Putnam         0.5         0.5         0.5         1.0\n",
              "49       Orange         0.5         1.0         1.0         1.0\n",
              "50  Westchester         0.5         0.5         1.0         1.0\n",
              "51     Rockland         0.5         0.5         0.5         1.0\n",
              "52       Nassau         0.5         0.5         0.5         1.0\n",
              "53      Suffolk         0.5         1.0         1.0         1.0\n",
              "54     richmond         0.5         0.5         0.5         0.5\n",
              "55       queens         0.5         0.5         0.5         0.5\n",
              "56        kings         0.5         0.5         0.5         0.0\n",
              "57        bronx         0.5         0.5         0.5         0.5"
            ]
          },
          "execution_count": 21,
          "metadata": {},
          "output_type": "execute_result"
        }
      ],
      "source": [
        "df"
      ]
    }
  ],
  "metadata": {
    "colab": {
      "authorship_tag": "ABX9TyNwM1ZIEOdgFGB95eTmd5mk",
      "include_colab_link": true,
      "mount_file_id": "1UMqMoxFGwZA1BZu3iAm9Pr95jujQc_Cl",
      "name": "Cilantro.ipynb",
      "provenance": []
    },
    "kernelspec": {
      "display_name": "Python 3.8.9 64-bit",
      "language": "python",
      "name": "python3"
    },
    "language_info": {
      "codemirror_mode": {
        "name": "ipython",
        "version": 3
      },
      "file_extension": ".py",
      "mimetype": "text/x-python",
      "name": "python",
      "nbconvert_exporter": "python",
      "pygments_lexer": "ipython3",
      "version": "3.8.9"
    },
    "vscode": {
      "interpreter": {
        "hash": "31f2aee4e71d21fbe5cf8b01ff0e069b9275f58929596ceb00d14d90e3e16cd6"
      }
    }
  },
  "nbformat": 4,
  "nbformat_minor": 0
}
