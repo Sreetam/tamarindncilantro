{
  "cells": [
    {
      "cell_type": "markdown",
      "metadata": {
        "colab_type": "text",
        "id": "view-in-github"
      },
      "source": [
        "<a href=\"https://colab.research.google.com/github/Sreetam/tamarindncilantro/blob/main/Cilantro.ipynb\" target=\"_parent\"><img src=\"https://colab.research.google.com/assets/colab-badge.svg\" alt=\"Open In Colab\"/></a>"
      ]
    },
    {
      "cell_type": "code",
      "execution_count": 1,
      "metadata": {
        "colab": {
          "base_uri": "https://localhost:8080/"
        },
        "id": "oVERUTvW-x5c",
        "outputId": "c9698d80-047d-4f82-cbe4-4b5cdc036420"
      },
      "outputs": [],
      "source": [
        "# !pip3 install wwo-hist\n",
        "# !pip3 install geopy"
      ]
    },
    {
      "cell_type": "code",
      "execution_count": 2,
      "metadata": {
        "id": "eO243zCbU4Lp"
      },
      "outputs": [],
      "source": [
        "import numpy as np\n",
        "import pandas as pd\n",
        "import math\n",
        "from geopy.geocoders import Nominatim\n",
        "from wwo_hist import retrieve_hist_data\n",
        "import geopy.distance\n",
        "from numpy.lib.type_check import nan_to_num\n",
        "import seaborn as sns\n",
        "import matplotlib.pyplot as plt\n",
        "%matplotlib inline"
      ]
    },
    {
      "cell_type": "code",
      "execution_count": 3,
      "metadata": {
        "id": "rU-Vuxnfsds7"
      },
      "outputs": [],
      "source": [
        "df = pd.read_csv(\"city.csv\")\n",
        "for i in df.columns:\n",
        "  df[i] = df[i].replace({ \"Ab\" : 0.5, \"yes\" : 1, \"no\" : 0})\n",
        "# calling the Nominatim tool\n",
        "loc = Nominatim(user_agent=\"GetLoc\")"
      ]
    },
    {
      "cell_type": "code",
      "execution_count": 6,
      "metadata": {},
      "outputs": [],
      "source": [
        "regions = pd.read_csv('regions.csv').drop(columns=['Unnamed: 0']).to_dict()\n",
        "dat = ['date_time', 'humidity', 'tempC']\n",
        "location_list = df['city']\n",
        "hist_weather_data = []\n",
        "for i in location_list:\n",
        "    hist_weather_data.append(pd.read_csv('./weather_data/'+i+'.csv')[dat])"
      ]
    },
    {
      "cell_type": "code",
      "execution_count": 7,
      "metadata": {
        "id": "v3d2-KZNmGsM"
      },
      "outputs": [],
      "source": [
        "def getDat(atr, date):\n",
        "  val = dict()\n",
        "  for i in range(len(hist_weather_data)):\n",
        "    val[df['city'][i]] = float(hist_weather_data[i][atr][date])\n",
        "  return val\n",
        "# Higher weight means more probability of transmission\n",
        "def calc_weight(x, y):\n",
        "  d = geopy.distance.geodesic(regions[x], regions[y]).km\n",
        "  if d==0: return 0\n",
        "  return 1/(1 + np.exp(-1/d))\n",
        "\n",
        "# Calculate the decay as per the formula\n",
        "def find_decay():\n",
        "    d = 0.6666667\n",
        "    return np.array([[d, d]])"
      ]
    },
    {
      "cell_type": "code",
      "execution_count": 8,
      "metadata": {
        "id": "FO9Uoy8VmpAz"
      },
      "outputs": [],
      "source": [
        "# The transmission graph contains info of the vector score, ie, weights\n",
        "# between two nodes L1 and L2\n",
        "\n",
        "class transmission_graph:\n",
        "  def __init__(self, sample=False):\n",
        "    # n denotes the number of districts or nodes in the graph\n",
        "    self.tempC = dict()\n",
        "    self.humidity = dict()\n",
        "    self.n = len(regions)\n",
        "    self.city = list(regions.keys())\n",
        "    # adj_matrix is the adjacency matrix\n",
        "    # The ith row and jth column of the adjacency matrix\n",
        "    # stores the weight of the edge between ith and jth node\n",
        "    self.adj_matrix = dict()\n",
        "    self.E = [[-1, -1], [-1, -1]]\n",
        "    self.susceptibility = dict()\n",
        "    self.initialize_matrix()\n",
        "\n",
        "  # This function initialises the graph with nodes and stores weights between each node of the graph\n",
        "  def initialize_matrix(self):\n",
        "    # Iterate over each node in the graph\n",
        "    for i in regions.keys():\n",
        "      # Iterate over all the neighbours\n",
        "      self.adj_matrix[i] = dict()\n",
        "      for j in regions.keys():\n",
        "        self.adj_matrix[i][j] = calc_weight(i, j)\n",
        "    # Also assign the susceptibility value of each node\n",
        "    self.compute_susceptibility(0)\n",
        "  def compute_susceptibility(self, day):\n",
        "    s = dict()\n",
        "    self.tempC = getDat('tempC', day)\n",
        "    self.humidity = getDat('humidity', day)\n",
        "    for i in regions.keys():\n",
        "        self.susceptibility[i] = self.calc_susceptibility_score(i)[0][0]\n",
        "        s[i] = self.calc_susceptibility_score(i)[0][0]\n",
        "    return s\n",
        "  # Function to modify the edge weight between two regions\n",
        "  def change_weight(self, r1, r2, wt):\n",
        "    self.adj_matrix[r1][r2] = wt\n",
        "  def calc_susceptibility_score(self, node):\n",
        "    Sn = np.array([[self.tempC[node], self.humidity[node]]])\n",
        "    Sn = Sn.transpose()\n",
        "    decay = find_decay()\n",
        "    y = np.matmul(decay, Sn)\n",
        "    return y"
      ]
    },
    {
      "cell_type": "code",
      "execution_count": 9,
      "metadata": {
        "id": "CWJVISEsZ_Cj"
      },
      "outputs": [],
      "source": [
        "g = transmission_graph()\n",
        "susceptibility_df = dict()\n",
        "for i in range(len(hist_weather_data[0]['date_time'])):\n",
        "  susceptibility_df[i] = g.compute_susceptibility(i)\n",
        "s_df = pd.DataFrame(susceptibility_df)\n",
        "s_df.columns = [d.strftime('%m/%d/%Y') for d in pd.date_range(df.columns[1], df.columns[-1],freq='d')]\n",
        "s_df.index.name = \"city\"\n",
        "s_df.to_csv(\"risk_pred.csv\")"
      ]
    }
  ],
  "metadata": {
    "colab": {
      "authorship_tag": "ABX9TyNwM1ZIEOdgFGB95eTmd5mk",
      "include_colab_link": true,
      "mount_file_id": "1UMqMoxFGwZA1BZu3iAm9Pr95jujQc_Cl",
      "name": "Cilantro.ipynb",
      "provenance": []
    },
    "kernelspec": {
      "display_name": "Python 3.8.9 64-bit",
      "language": "python",
      "name": "python3"
    },
    "language_info": {
      "codemirror_mode": {
        "name": "ipython",
        "version": 3
      },
      "file_extension": ".py",
      "mimetype": "text/x-python",
      "name": "python",
      "nbconvert_exporter": "python",
      "pygments_lexer": "ipython3",
      "version": "3.8.9"
    },
    "vscode": {
      "interpreter": {
        "hash": "31f2aee4e71d21fbe5cf8b01ff0e069b9275f58929596ceb00d14d90e3e16cd6"
      }
    }
  },
  "nbformat": 4,
  "nbformat_minor": 0
}
